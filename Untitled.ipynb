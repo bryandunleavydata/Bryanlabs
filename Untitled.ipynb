{
 "cells": [
  {
   "cell_type": "code",
   "execution_count": 1,
   "id": "0c13563c",
   "metadata": {},
   "outputs": [],
   "source": [
    "import numpy\n",
    "#arrays are the basic variables of np"
   ]
  },
  {
   "cell_type": "code",
   "execution_count": 5,
   "id": "7c7f9a12",
   "metadata": {},
   "outputs": [],
   "source": [
    "import sklearn"
   ]
  },
  {
   "cell_type": "code",
   "execution_count": 6,
   "id": "b8680171",
   "metadata": {},
   "outputs": [],
   "source": [
    "def add_numbers(a, b):\n",
    "    return a + b"
   ]
  },
  {
   "cell_type": "code",
   "execution_count": 8,
   "id": "36b5617a",
   "metadata": {},
   "outputs": [],
   "source": [
    "add_numbers = lambda a,b : a + b"
   ]
  },
  {
   "cell_type": "code",
   "execution_count": 10,
   "id": "c10bf7e4",
   "metadata": {},
   "outputs": [
    {
     "data": {
      "text/plain": [
       "7"
      ]
     },
     "execution_count": 10,
     "metadata": {},
     "output_type": "execute_result"
    }
   ],
   "source": [
    "add_numbers(3,4)"
   ]
  },
  {
   "cell_type": "code",
   "execution_count": 11,
   "id": "11d4bbb6",
   "metadata": {},
   "outputs": [],
   "source": [
    "subtract_numbers = lambda a, b : a - b"
   ]
  },
  {
   "cell_type": "code",
   "execution_count": 12,
   "id": "4c14e67e",
   "metadata": {},
   "outputs": [
    {
     "data": {
      "text/plain": [
       "3"
      ]
     },
     "execution_count": 12,
     "metadata": {},
     "output_type": "execute_result"
    }
   ],
   "source": [
    "subtract_numbers(4,1)"
   ]
  },
  {
   "cell_type": "code",
   "execution_count": 14,
   "id": "78f5ce6d",
   "metadata": {},
   "outputs": [],
   "source": [
    "numbers = [1, 2, 3, 4, 5, 6, 7, 8, 9, 10]"
   ]
  },
  {
   "cell_type": "code",
   "execution_count": 15,
   "id": "b203c4dd",
   "metadata": {},
   "outputs": [],
   "source": [
    "def is_even(x):\n",
    "    return x % 2 == 0"
   ]
  },
  {
   "cell_type": "code",
   "execution_count": 20,
   "id": "49a40e56",
   "metadata": {},
   "outputs": [
    {
     "name": "stdout",
     "output_type": "stream",
     "text": [
      "[2, 4, 6, 8, 10]\n"
     ]
    }
   ],
   "source": [
    "even_numbers = (list(filter(is_even, numbers )))\n",
    "print(even_numbers)    "
   ]
  },
  {
   "cell_type": "code",
   "execution_count": null,
   "id": "1b0afa2c",
   "metadata": {},
   "outputs": [],
   "source": []
  }
 ],
 "metadata": {
  "kernelspec": {
   "display_name": "Python 3 (ipykernel)",
   "language": "python",
   "name": "python3"
  },
  "language_info": {
   "codemirror_mode": {
    "name": "ipython",
    "version": 3
   },
   "file_extension": ".py",
   "mimetype": "text/x-python",
   "name": "python",
   "nbconvert_exporter": "python",
   "pygments_lexer": "ipython3",
   "version": "3.10.9"
  }
 },
 "nbformat": 4,
 "nbformat_minor": 5
}
