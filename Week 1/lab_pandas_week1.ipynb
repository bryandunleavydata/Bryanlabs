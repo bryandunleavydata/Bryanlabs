{
 "cells": [
  {
   "cell_type": "code",
   "execution_count": 2,
   "id": "5192e4a7",
   "metadata": {},
   "outputs": [],
   "source": [
    "%matplotlib inline\n",
    "import numpy as np\n",
    "import pandas as pd\n",
    "from IPython.display import Image\n",
    "from IPython.display import HTML\n",
    "from IPython.display import Markdown, display\n",
    "def printmd(string):\n",
    "    display(Markdown(string))\n",
    "    \n",
    "    #numpy.quantile(\n",
    "    #boolean indexing for question 4\n",
    "    # drop NaN values in the set"
   ]
  },
  {
   "cell_type": "code",
   "execution_count": 3,
   "id": "beac13b4",
   "metadata": {
    "scrolled": true
   },
   "outputs": [
    {
     "data": {
      "text/html": [
       "<div>\n",
       "<style scoped>\n",
       "    .dataframe tbody tr th:only-of-type {\n",
       "        vertical-align: middle;\n",
       "    }\n",
       "\n",
       "    .dataframe tbody tr th {\n",
       "        vertical-align: top;\n",
       "    }\n",
       "\n",
       "    .dataframe thead th {\n",
       "        text-align: right;\n",
       "    }\n",
       "</style>\n",
       "<table border=\"1\" class=\"dataframe\">\n",
       "  <thead>\n",
       "    <tr style=\"text-align: right;\">\n",
       "      <th></th>\n",
       "      <th>Customer</th>\n",
       "      <th>ST</th>\n",
       "      <th>GENDER</th>\n",
       "      <th>Education</th>\n",
       "      <th>Customer Lifetime Value</th>\n",
       "      <th>Income</th>\n",
       "      <th>Monthly Premium Auto</th>\n",
       "      <th>Number of Open Complaints</th>\n",
       "      <th>Policy Type</th>\n",
       "      <th>Vehicle Class</th>\n",
       "      <th>Total Claim Amount</th>\n",
       "    </tr>\n",
       "  </thead>\n",
       "  <tbody>\n",
       "    <tr>\n",
       "      <th>0</th>\n",
       "      <td>RB50392</td>\n",
       "      <td>Washington</td>\n",
       "      <td>NaN</td>\n",
       "      <td>Master</td>\n",
       "      <td>NaN</td>\n",
       "      <td>0.0</td>\n",
       "      <td>1000.0</td>\n",
       "      <td>1/0/00</td>\n",
       "      <td>Personal Auto</td>\n",
       "      <td>Four-Door Car</td>\n",
       "      <td>2.704934</td>\n",
       "    </tr>\n",
       "    <tr>\n",
       "      <th>1</th>\n",
       "      <td>QZ44356</td>\n",
       "      <td>Arizona</td>\n",
       "      <td>F</td>\n",
       "      <td>Bachelor</td>\n",
       "      <td>697953.59%</td>\n",
       "      <td>0.0</td>\n",
       "      <td>94.0</td>\n",
       "      <td>1/0/00</td>\n",
       "      <td>Personal Auto</td>\n",
       "      <td>Four-Door Car</td>\n",
       "      <td>1131.464935</td>\n",
       "    </tr>\n",
       "    <tr>\n",
       "      <th>2</th>\n",
       "      <td>AI49188</td>\n",
       "      <td>Nevada</td>\n",
       "      <td>F</td>\n",
       "      <td>Bachelor</td>\n",
       "      <td>1288743.17%</td>\n",
       "      <td>48767.0</td>\n",
       "      <td>108.0</td>\n",
       "      <td>1/0/00</td>\n",
       "      <td>Personal Auto</td>\n",
       "      <td>Two-Door Car</td>\n",
       "      <td>566.472247</td>\n",
       "    </tr>\n",
       "    <tr>\n",
       "      <th>3</th>\n",
       "      <td>WW63253</td>\n",
       "      <td>California</td>\n",
       "      <td>M</td>\n",
       "      <td>Bachelor</td>\n",
       "      <td>764586.18%</td>\n",
       "      <td>0.0</td>\n",
       "      <td>106.0</td>\n",
       "      <td>1/0/00</td>\n",
       "      <td>Corporate Auto</td>\n",
       "      <td>SUV</td>\n",
       "      <td>529.881344</td>\n",
       "    </tr>\n",
       "    <tr>\n",
       "      <th>4</th>\n",
       "      <td>GA49547</td>\n",
       "      <td>Washington</td>\n",
       "      <td>M</td>\n",
       "      <td>High School or Below</td>\n",
       "      <td>536307.65%</td>\n",
       "      <td>36357.0</td>\n",
       "      <td>68.0</td>\n",
       "      <td>1/0/00</td>\n",
       "      <td>Personal Auto</td>\n",
       "      <td>Four-Door Car</td>\n",
       "      <td>17.269323</td>\n",
       "    </tr>\n",
       "    <tr>\n",
       "      <th>...</th>\n",
       "      <td>...</td>\n",
       "      <td>...</td>\n",
       "      <td>...</td>\n",
       "      <td>...</td>\n",
       "      <td>...</td>\n",
       "      <td>...</td>\n",
       "      <td>...</td>\n",
       "      <td>...</td>\n",
       "      <td>...</td>\n",
       "      <td>...</td>\n",
       "      <td>...</td>\n",
       "    </tr>\n",
       "    <tr>\n",
       "      <th>95</th>\n",
       "      <td>TV87155</td>\n",
       "      <td>Oregon</td>\n",
       "      <td>NaN</td>\n",
       "      <td>Bachelor</td>\n",
       "      <td>2094619.25%</td>\n",
       "      <td>69738.0</td>\n",
       "      <td>74.0</td>\n",
       "      <td>1/1/00</td>\n",
       "      <td>Personal Auto</td>\n",
       "      <td>Four-Door Car</td>\n",
       "      <td>492.127532</td>\n",
       "    </tr>\n",
       "    <tr>\n",
       "      <th>96</th>\n",
       "      <td>KH48895</td>\n",
       "      <td>AZ</td>\n",
       "      <td>NaN</td>\n",
       "      <td>Master</td>\n",
       "      <td>837535.39%</td>\n",
       "      <td>17780.0</td>\n",
       "      <td>109.0</td>\n",
       "      <td>1/0/00</td>\n",
       "      <td>Personal Auto</td>\n",
       "      <td>SUV</td>\n",
       "      <td>132.588288</td>\n",
       "    </tr>\n",
       "    <tr>\n",
       "      <th>97</th>\n",
       "      <td>NZ30757</td>\n",
       "      <td>California</td>\n",
       "      <td>NaN</td>\n",
       "      <td>Bachelor</td>\n",
       "      <td>480166.15%</td>\n",
       "      <td>18107.0</td>\n",
       "      <td>62.0</td>\n",
       "      <td>1/0/00</td>\n",
       "      <td>Personal Auto</td>\n",
       "      <td>Four-Door Car</td>\n",
       "      <td>297.600000</td>\n",
       "    </tr>\n",
       "    <tr>\n",
       "      <th>98</th>\n",
       "      <td>RI22468</td>\n",
       "      <td>AZ</td>\n",
       "      <td>NaN</td>\n",
       "      <td>Bachelor</td>\n",
       "      <td>574594.33%</td>\n",
       "      <td>57740.0</td>\n",
       "      <td>74.0</td>\n",
       "      <td>1/3/00</td>\n",
       "      <td>Personal Auto</td>\n",
       "      <td>Four-Door Car</td>\n",
       "      <td>269.905129</td>\n",
       "    </tr>\n",
       "    <tr>\n",
       "      <th>99</th>\n",
       "      <td>FZ30935</td>\n",
       "      <td>Oregon</td>\n",
       "      <td>NaN</td>\n",
       "      <td>College</td>\n",
       "      <td>606611.60%</td>\n",
       "      <td>32627.0</td>\n",
       "      <td>76.0</td>\n",
       "      <td>1/0/00</td>\n",
       "      <td>Personal Auto</td>\n",
       "      <td>Two-Door Car</td>\n",
       "      <td>380.036697</td>\n",
       "    </tr>\n",
       "  </tbody>\n",
       "</table>\n",
       "<p>100 rows × 11 columns</p>\n",
       "</div>"
      ],
      "text/plain": [
       "   Customer          ST GENDER             Education Customer Lifetime Value  \\\n",
       "0   RB50392  Washington    NaN                Master                     NaN   \n",
       "1   QZ44356     Arizona      F              Bachelor              697953.59%   \n",
       "2   AI49188      Nevada      F              Bachelor             1288743.17%   \n",
       "3   WW63253  California      M              Bachelor              764586.18%   \n",
       "4   GA49547  Washington      M  High School or Below              536307.65%   \n",
       "..      ...         ...    ...                   ...                     ...   \n",
       "95  TV87155      Oregon    NaN              Bachelor             2094619.25%   \n",
       "96  KH48895          AZ    NaN                Master              837535.39%   \n",
       "97  NZ30757  California    NaN              Bachelor              480166.15%   \n",
       "98  RI22468          AZ    NaN              Bachelor              574594.33%   \n",
       "99  FZ30935      Oregon    NaN               College              606611.60%   \n",
       "\n",
       "     Income  Monthly Premium Auto Number of Open Complaints     Policy Type  \\\n",
       "0       0.0                1000.0                    1/0/00   Personal Auto   \n",
       "1       0.0                  94.0                    1/0/00   Personal Auto   \n",
       "2   48767.0                 108.0                    1/0/00   Personal Auto   \n",
       "3       0.0                 106.0                    1/0/00  Corporate Auto   \n",
       "4   36357.0                  68.0                    1/0/00   Personal Auto   \n",
       "..      ...                   ...                       ...             ...   \n",
       "95  69738.0                  74.0                    1/1/00   Personal Auto   \n",
       "96  17780.0                 109.0                    1/0/00   Personal Auto   \n",
       "97  18107.0                  62.0                    1/0/00   Personal Auto   \n",
       "98  57740.0                  74.0                    1/3/00   Personal Auto   \n",
       "99  32627.0                  76.0                    1/0/00   Personal Auto   \n",
       "\n",
       "    Vehicle Class  Total Claim Amount  \n",
       "0   Four-Door Car            2.704934  \n",
       "1   Four-Door Car         1131.464935  \n",
       "2    Two-Door Car          566.472247  \n",
       "3             SUV          529.881344  \n",
       "4   Four-Door Car           17.269323  \n",
       "..            ...                 ...  \n",
       "95  Four-Door Car          492.127532  \n",
       "96            SUV          132.588288  \n",
       "97  Four-Door Car          297.600000  \n",
       "98  Four-Door Car          269.905129  \n",
       "99   Two-Door Car          380.036697  \n",
       "\n",
       "[100 rows x 11 columns]"
      ]
     },
     "execution_count": 3,
     "metadata": {},
     "output_type": "execute_result"
    }
   ],
   "source": [
    "# Read the CSV file using pandas\n",
    "df = pd.read_csv('https://raw.githubusercontent.com/data-bootcamp-v4/data/main/file1.csv')\n",
    "        \n",
    "df.head(100) "
   ]
  },
  {
   "cell_type": "markdown",
   "id": "b9951d1b",
   "metadata": {},
   "source": [
    "# QUESTION 1:A"
   ]
  },
  {
   "cell_type": "code",
   "execution_count": 6,
   "id": "20675e3a",
   "metadata": {},
   "outputs": [
    {
     "name": "stdout",
     "output_type": "stream",
     "text": [
      "<class 'pandas.core.frame.DataFrame'>\n",
      "RangeIndex: 4008 entries, 0 to 4007\n",
      "Data columns (total 11 columns):\n",
      " #   Column                     Non-Null Count  Dtype  \n",
      "---  ------                     --------------  -----  \n",
      " 0   Customer                   1071 non-null   object \n",
      " 1   ST                         1071 non-null   object \n",
      " 2   GENDER                     954 non-null    object \n",
      " 3   Education                  1071 non-null   object \n",
      " 4   Customer Lifetime Value    1068 non-null   object \n",
      " 5   Income                     1071 non-null   float64\n",
      " 6   Monthly Premium Auto       1071 non-null   float64\n",
      " 7   Number of Open Complaints  1071 non-null   object \n",
      " 8   Policy Type                1071 non-null   object \n",
      " 9   Vehicle Class              1071 non-null   object \n",
      " 10  Total Claim Amount         1071 non-null   float64\n",
      "dtypes: float64(3), object(8)\n",
      "memory usage: 344.6+ KB\n"
     ]
    }
   ],
   "source": [
    "df.info() #determine the dimension of the data set: 11 columns and 4007 rows (excluding row 0)"
   ]
  },
  {
   "cell_type": "code",
   "execution_count": 11,
   "id": "4f9f8744",
   "metadata": {},
   "outputs": [
    {
     "name": "stdout",
     "output_type": "stream",
     "text": [
      "(4008, 11)\n"
     ]
    }
   ],
   "source": [
    "print(df.shape)"
   ]
  },
  {
   "cell_type": "markdown",
   "id": "bd45bef4",
   "metadata": {},
   "source": [
    "# Question 1:B"
   ]
  },
  {
   "cell_type": "code",
   "execution_count": 7,
   "id": "8f1c3e9d",
   "metadata": {},
   "outputs": [
    {
     "data": {
      "text/plain": [
       "count       1071\n",
       "unique         8\n",
       "top       Oregon\n",
       "freq         320\n",
       "Name: ST, dtype: object"
      ]
     },
     "execution_count": 7,
     "metadata": {},
     "output_type": "execute_result"
    }
   ],
   "source": [
    "df['ST'].describe() #Determine the data types of each column (object) appropriate for the nature of the variable?: yes\n"
   ]
  },
  {
   "cell_type": "code",
   "execution_count": 16,
   "id": "cf4f7cb4",
   "metadata": {},
   "outputs": [
    {
     "data": {
      "text/plain": [
       "count        1071\n",
       "unique       1071\n",
       "top       RB50392\n",
       "freq            1\n",
       "Name: Customer, dtype: object"
      ]
     },
     "execution_count": 16,
     "metadata": {},
     "output_type": "execute_result"
    }
   ],
   "source": [
    "df['Customer'].describe()  #Determine the data types of each column (object) appropriate for the nature of the variable?: yes\n"
   ]
  },
  {
   "cell_type": "code",
   "execution_count": 17,
   "id": "0ec6379c",
   "metadata": {},
   "outputs": [
    {
     "data": {
      "text/plain": [
       "count         1071\n",
       "unique           6\n",
       "top       Bachelor\n",
       "freq           324\n",
       "Name: Education, dtype: object"
      ]
     },
     "execution_count": 17,
     "metadata": {},
     "output_type": "execute_result"
    }
   ],
   "source": [
    "df['Education'].describe()  #Determine the data types of each column (object) appropriate for the nature of the variable?: yes\n"
   ]
  },
  {
   "cell_type": "code",
   "execution_count": 19,
   "id": "cc552b66",
   "metadata": {},
   "outputs": [
    {
     "data": {
      "text/plain": [
       "count           1068\n",
       "unique          1027\n",
       "top       445811.34%\n",
       "freq               4\n",
       "Name: Customer Lifetime Value, dtype: object"
      ]
     },
     "execution_count": 19,
     "metadata": {},
     "output_type": "execute_result"
    }
   ],
   "source": [
    "df['Customer Lifetime Value'].describe()  #Determine the data types of each column (object) appropriate for the nature of the variable?: no\n",
    "#suggestion for fixing incorrect data type: change to float64\n"
   ]
  },
  {
   "cell_type": "code",
   "execution_count": 20,
   "id": "3bd1330d",
   "metadata": {},
   "outputs": [
    {
     "data": {
      "text/plain": [
       "count     1071.000000\n",
       "mean     39295.701214\n",
       "std      30469.427060\n",
       "min          0.000000\n",
       "25%      14072.000000\n",
       "50%      36234.000000\n",
       "75%      64631.000000\n",
       "max      99960.000000\n",
       "Name: Income, dtype: float64"
      ]
     },
     "execution_count": 20,
     "metadata": {},
     "output_type": "execute_result"
    }
   ],
   "source": [
    "df['Income'].describe() #Determine the data types of each column (float64) appropriate for the nature of the variable?: yes\n"
   ]
  },
  {
   "cell_type": "code",
   "execution_count": 22,
   "id": "07f9fe84",
   "metadata": {},
   "outputs": [
    {
     "data": {
      "text/plain": [
       "count     1071.000000\n",
       "mean       193.234360\n",
       "std       1601.190369\n",
       "min         61.000000\n",
       "25%         68.000000\n",
       "50%         83.000000\n",
       "75%        109.500000\n",
       "max      35354.000000\n",
       "Name: Monthly Premium Auto, dtype: float64"
      ]
     },
     "execution_count": 22,
     "metadata": {},
     "output_type": "execute_result"
    }
   ],
   "source": [
    "df['Monthly Premium Auto'].describe() \n",
    "#Determine the data types of each column (float64) appropriate for the nature of the variable?: yes"
   ]
  },
  {
   "cell_type": "code",
   "execution_count": 23,
   "id": "75481a10",
   "metadata": {},
   "outputs": [
    {
     "data": {
      "text/plain": [
       "count       1071\n",
       "unique         6\n",
       "top       1/0/00\n",
       "freq         830\n",
       "Name: Number of Open Complaints, dtype: object"
      ]
     },
     "execution_count": 23,
     "metadata": {},
     "output_type": "execute_result"
    }
   ],
   "source": [
    "df['Number of Open Complaints'].describe()\n",
    "#Determine the data types of each column (float64) appropriate for the nature of the variable?: no!!!!!!"
   ]
  },
  {
   "cell_type": "code",
   "execution_count": 25,
   "id": "e6f42513",
   "metadata": {},
   "outputs": [
    {
     "data": {
      "text/plain": [
       "count              1071\n",
       "unique                3\n",
       "top       Personal Auto\n",
       "freq                780\n",
       "Name: Policy Type, dtype: object"
      ]
     },
     "execution_count": 25,
     "metadata": {},
     "output_type": "execute_result"
    }
   ],
   "source": [
    "df['Policy Type'].describe()\n",
    "#Determine the data types of each column (object) appropriate for the nature of the variable?: yes"
   ]
  },
  {
   "cell_type": "code",
   "execution_count": 27,
   "id": "90d6b04f",
   "metadata": {},
   "outputs": [
    {
     "data": {
      "text/plain": [
       "count              1071\n",
       "unique                6\n",
       "top       Four-Door Car\n",
       "freq                576\n",
       "Name: Vehicle Class, dtype: object"
      ]
     },
     "execution_count": 27,
     "metadata": {},
     "output_type": "execute_result"
    }
   ],
   "source": [
    "df['Vehicle Class'].describe()\n",
    "#Determine the data types of each column (object) appropriate for the nature of the variable?: yes"
   ]
  },
  {
   "cell_type": "code",
   "execution_count": 28,
   "id": "6a0f87e4",
   "metadata": {},
   "outputs": [
    {
     "data": {
      "text/plain": [
       "count    1071.000000\n",
       "mean      404.986909\n",
       "std       293.027260\n",
       "min         0.382107\n",
       "25%       202.157702\n",
       "50%       354.729129\n",
       "75%       532.800000\n",
       "max      2893.239678\n",
       "Name: Total Claim Amount, dtype: float64"
      ]
     },
     "execution_count": 28,
     "metadata": {},
     "output_type": "execute_result"
    }
   ],
   "source": [
    "df['Total Claim Amount'].describe()\n",
    "#Determine the data types of each column (float64) appropriate for the nature of the variable?: yes"
   ]
  },
  {
   "cell_type": "code",
   "execution_count": 29,
   "id": "78d8c211",
   "metadata": {},
   "outputs": [
    {
     "data": {
      "text/plain": [
       "count        1071\n",
       "unique       1071\n",
       "top       RB50392\n",
       "freq            1\n",
       "Name: Customer, dtype: object"
      ]
     },
     "execution_count": 29,
     "metadata": {},
     "output_type": "execute_result"
    }
   ],
   "source": [
    "df['Customer'].describe()\n",
    "##Determine the data types of each column (object) appropriate for the nature of the variable?: yes"
   ]
  },
  {
   "cell_type": "code",
   "execution_count": 32,
   "id": "4325566c",
   "metadata": {},
   "outputs": [
    {
     "data": {
      "text/plain": [
       "count     954\n",
       "unique      5\n",
       "top         F\n",
       "freq      457\n",
       "Name: GENDER, dtype: object"
      ]
     },
     "execution_count": 32,
     "metadata": {},
     "output_type": "execute_result"
    }
   ],
   "source": [
    "df['GENDER'].describe()\n",
    "##Determine the data types of each column (object) appropriate for the nature of the variable?: yes"
   ]
  },
  {
   "cell_type": "markdown",
   "id": "42774171",
   "metadata": {},
   "source": [
    "# Question 1: C"
   ]
  },
  {
   "cell_type": "markdown",
   "id": "25367773",
   "metadata": {},
   "source": [
    "Identify the number of unique values for each column and determine which columns appear to be categorical. You should also describe the unique values of each categorical column and the range of values for numerical columns, and give your insights"
   ]
  },
  {
   "cell_type": "raw",
   "id": "ba614536",
   "metadata": {},
   "source": [
    "#The number of unique values for each column:\n",
    "Customer: 1071. Categorical?: No\n",
    "ST: 8. Categorical?: Yes\n",
    "Gender: 5. Categorical?: Yes\n",
    "Education: 6. Categorical?: Yes\n",
    "Customer Lifetime Value: 1027. Categorical?: No\n",
    "Income: 774. Categorical?: No\n",
    "Monthly Premium Auto: 132. Categorical?: No\n",
    "Number of Open Complaints: 6. Categorical?: No\n",
    "Policy Type: 3. Categorical?: Yes\n",
    "Vehicle Class: 6. Categorical?: Yes\n",
    "Total Claim Amount: 761. Categorical?: No"
   ]
  },
  {
   "cell_type": "code",
   "execution_count": 33,
   "id": "cff02aa2",
   "metadata": {},
   "outputs": [
    {
     "name": "stdout",
     "output_type": "stream",
     "text": [
      "Number of unique values: 774\n"
     ]
    }
   ],
   "source": [
    "unique_values_count = df['Income'].nunique()\n",
    "\n",
    "print(\"Number of unique values:\", unique_values_count)\n"
   ]
  },
  {
   "cell_type": "code",
   "execution_count": 34,
   "id": "c309d8d6",
   "metadata": {},
   "outputs": [
    {
     "name": "stdout",
     "output_type": "stream",
     "text": [
      "Number of unique values: 132\n"
     ]
    }
   ],
   "source": [
    "unique_values_count = df['Monthly Premium Auto'].nunique()\n",
    "\n",
    "print(\"Number of unique values:\", unique_values_count)\n",
    "count     1071.000000\n",
    "mean       193.234360\n",
    "std       1601.190369\n",
    "min         61.000000\n",
    "25%         68.000000\n",
    "50%         83.000000\n",
    "75%        109.500000\n",
    "max      35354.000000\n"
   ]
  },
  {
   "cell_type": "code",
   "execution_count": 60,
   "id": "277b3e8b",
   "metadata": {},
   "outputs": [
    {
     "name": "stdout",
     "output_type": "stream",
     "text": [
      "Number of unique values: 761\n"
     ]
    }
   ],
   "source": [
    "unique_values_count = df['Total Claim Amount'].nunique()\n",
    "\n",
    "print(\"Number of unique values:\", unique_values_count)\n",
    "#count    1071.000000\n",
    "mean      404.986909\n",
    "std       293.027260\n",
    "min         0.382107\n",
    "25%       202.157702\n",
    "50%       354.729129\n",
    "75%       532.800000\n",
    "max      2893.239678\n",
    "Name: Total Claim Amount, dtype: float64\n"
   ]
  },
  {
   "cell_type": "raw",
   "id": "e0ea93e7",
   "metadata": {},
   "source": [
    " Numerical Colums\n",
    "\n",
    "Total Claim Amount \n",
    "Number of Open Complaints\n",
    "Monthly Premium Auto\n",
    "Income\n",
    "Customer Lifetime Value"
   ]
  },
  {
   "cell_type": "code",
   "execution_count": null,
   "id": "8fb776a9",
   "metadata": {},
   "outputs": [],
   "source": []
  },
  {
   "cell_type": "code",
   "execution_count": 59,
   "id": "b976f5a8",
   "metadata": {},
   "outputs": [
    {
     "name": "stdout",
     "output_type": "stream",
     "text": [
      "Range of Total Claim Amount: 2892.857571\n",
      "Max Value 2893.239678\n",
      "Min Value 0.382107\n"
     ]
    }
   ],
   "source": [
    "range_claims_amount = df['Total Claim Amount'].max() - df['Total Claim Amount'].min()\n",
    "\n",
    "print(\"Range of Total Claim Amount:\", range_claims_amount)\n",
    "print(\"Max Value\",df['Total Claim Amount'].max())\n",
    "print(\"Min Value\",df['Total Claim Amount'].min())\n",
    "\n",
    "#As expected, the lowest value in the data set is less than $1 denoting an accident free driver. \n",
    "#The highest claim figure is $2893"
   ]
  },
  {
   "cell_type": "code",
   "execution_count": 40,
   "id": "076a9edd",
   "metadata": {},
   "outputs": [
    {
     "name": "stdout",
     "output_type": "stream",
     "text": [
      "Range of Monthly Premiums: 2892.857571\n",
      "Max Value 35354.0\n",
      "Min Value 61.0\n"
     ]
    }
   ],
   "source": [
    "range_monthly_premium = df['Monthly Premium Auto'].max() - df['Monthly Premium Auto'].min()\n",
    "print(\"Range of Monthly Premiums:\", range_claims_amount)\n",
    "print(\"Max Value\",df['Monthly Premium Auto'].max())\n",
    "print(\"Min Value\",df['Monthly Premium Auto'].min())\n",
    "\n",
    "#The most expensive premium is $35354. The lowest is $61"
   ]
  },
  {
   "cell_type": "code",
   "execution_count": 41,
   "id": "51c50ec3",
   "metadata": {},
   "outputs": [
    {
     "name": "stdout",
     "output_type": "stream",
     "text": [
      "Range of Customer Income: 2892.857571\n",
      "Max Value 99960.0\n",
      "Min Value 0.0\n"
     ]
    }
   ],
   "source": [
    "range_customer_income = df['Income'].max() - df['Income'].min()\n",
    "print(\"Range of Customer Income:\", range_claims_amount)\n",
    "print(\"Max Value\",df['Income'].max())\n",
    "print(\"Min Value\",df['Income'].min())\n",
    "\n",
    "#The highest earning customer earns $99960.\n",
    "#There are customers in the data set with no monetary income."
   ]
  },
  {
   "cell_type": "code",
   "execution_count": 48,
   "id": "9958132f",
   "metadata": {},
   "outputs": [
    {
     "name": "stdout",
     "output_type": "stream",
     "text": [
      "1/0/00    830\n",
      "1/1/00    138\n",
      "1/2/00     50\n",
      "1/3/00     34\n",
      "1/4/00     13\n",
      "1/5/00      6\n",
      "Name: Number of Open Complaints, dtype: int64\n"
     ]
    }
   ],
   "source": [
    "complaints_counts = df['Number of Open Complaints'].value_counts()\n",
    "print(complaints_counts)\n",
    "sum(6,13,34,50,138)\n",
    "#77.48% of customers currently have no open complaint.\n",
    "#The highest count value is 6 which corresponds to 0.56% of all customers "
   ]
  },
  {
   "cell_type": "raw",
   "id": "a25bb7bc",
   "metadata": {},
   "source": [
    "Categorical Columns\n",
    "ST\n",
    "Gender\n",
    "Education\n",
    "Policy Type\n",
    "Vehicle Class\n",
    "\n"
   ]
  },
  {
   "cell_type": "code",
   "execution_count": 61,
   "id": "d49ad6d0",
   "metadata": {},
   "outputs": [
    {
     "name": "stdout",
     "output_type": "stream",
     "text": [
      "Oregon        320\n",
      "California    211\n",
      "Arizona       186\n",
      "Cali          120\n",
      "Nevada         98\n",
      "Washington     81\n",
      "WA             30\n",
      "AZ             25\n",
      "Name: ST, dtype: int64\n"
     ]
    }
   ],
   "source": [
    "#Unique Values for column 'ST'\n",
    "\n",
    "unique_values_counts = df['ST'].value_counts()\n",
    "print(unique_values_counts)\n",
    "#There are a number of entries that need to be merged due to inconsistency with labelling.\n",
    "#Cali __ California\n",
    "#AZ __ Arizona\n",
    "#WA__Washington\n"
   ]
  },
  {
   "cell_type": "code",
   "execution_count": 8,
   "id": "2d5a3afd",
   "metadata": {},
   "outputs": [],
   "source": [
    "df['ST'] = df['ST'].replace('Cali', 'California')\n",
    "df['ST'] = df['ST'].replace('WA', 'Washington')\n",
    "df['ST'] = df['ST'].replace('AZ', 'Arizona')\n",
    "\n",
    "\n",
    "\n",
    "\n"
   ]
  },
  {
   "cell_type": "code",
   "execution_count": 10,
   "id": "3233fb89",
   "metadata": {},
   "outputs": [
    {
     "name": "stdout",
     "output_type": "stream",
     "text": [
      "California    331\n",
      "Oregon        320\n",
      "Arizona       211\n",
      "Washington    111\n",
      "Nevada         98\n",
      "Name: ST, dtype: int64\n"
     ]
    }
   ],
   "source": [
    "unique_values_counts = df['ST'].value_counts()\n",
    "print(unique_values_counts)"
   ]
  },
  {
   "cell_type": "code",
   "execution_count": 62,
   "id": "455cf30f",
   "metadata": {},
   "outputs": [
    {
     "name": "stdout",
     "output_type": "stream",
     "text": [
      "F         457\n",
      "M         413\n",
      "Male       39\n",
      "female     28\n",
      "Femal      17\n",
      "Name: GENDER, dtype: int64\n"
     ]
    }
   ],
   "source": [
    "#Unique Values for column 'GENDER'\n",
    "unique_values_counts = df['GENDER'].value_counts()\n",
    "print(unique_values_counts)\n",
    "#Due to mislabelling, we are presented with three duplicate values for female and two for male.\n",
    "#Female: 502\n",
    "#Male: 452\n",
    "#The data set is equally spread amoung both genders."
   ]
  },
  {
   "cell_type": "code",
   "execution_count": 65,
   "id": "69cc248a",
   "metadata": {},
   "outputs": [
    {
     "name": "stdout",
     "output_type": "stream",
     "text": [
      "Bachelor                324\n",
      "College                 313\n",
      "High School or Below    296\n",
      "Master                   94\n",
      "Doctor                   37\n",
      "Bachelors                 7\n",
      "Name: Education, dtype: int64\n"
     ]
    }
   ],
   "source": [
    "#Unique Values for column 'Education'\n",
    "unique_values_counts = df['Education'].value_counts()\n",
    "print(unique_values_counts)\n",
    "#Here Batchelor and Batchelors can be merged to give a total of 331.\n",
    "#The category \"College\" does not specify exactly what level the customer has obtained.\n",
    "#Taking the non-specific category \"College\" into account, \"Batchelor\" is the most common level of education."
   ]
  },
  {
   "cell_type": "code",
   "execution_count": 12,
   "id": "33d80c24",
   "metadata": {},
   "outputs": [
    {
     "name": "stdout",
     "output_type": "stream",
     "text": [
      "Personal Auto     0.728291\n",
      "Corporate Auto    0.218487\n",
      "Special Auto      0.053221\n",
      "Name: Policy Type, dtype: float64\n"
     ]
    }
   ],
   "source": [
    "#Unique Values for column 'Policy Type'\n",
    "unique_values_counts = df['Policy Type'].value_counts(normalize=True)  #(normalize=True) returns the %\n",
    "print(unique_values_counts)\n",
    "#Here we are presented with consistent data with three unique values. \n",
    "#The most popular category is Personal Auto with an overall share of 72.83%"
   ]
  },
  {
   "cell_type": "code",
   "execution_count": 69,
   "id": "e3fbefa0",
   "metadata": {},
   "outputs": [
    {
     "name": "stdout",
     "output_type": "stream",
     "text": [
      "Four-Door Car    576\n",
      "Two-Door Car     205\n",
      "SUV              199\n",
      "Sports Car        57\n",
      "Luxury SUV        20\n",
      "Luxury Car        14\n",
      "Name: Vehicle Class, dtype: int64\n"
     ]
    }
   ],
   "source": [
    "#Unique Values for column 'Vehicle Class'\n",
    "unique_values_counts = df['Vehicle Class'].value_counts()\n",
    "print(unique_values_counts)\n",
    "#Here we are presented with consistent data with six unique values. \n",
    "#The most popular type is Four-Door Car with an overall share of 53.31%\n",
    "#1.3% of customers have a Luxury Car policy"
   ]
  },
  {
   "cell_type": "code",
   "execution_count": null,
   "id": "92f1f53e",
   "metadata": {},
   "outputs": [],
   "source": []
  },
  {
   "cell_type": "code",
   "execution_count": 5,
   "id": "a76884d2",
   "metadata": {},
   "outputs": [
    {
     "data": {
      "text/plain": [
       "Cali          120\n",
       "Nevada         98\n",
       "Washington     81\n",
       "WA             30\n",
       "AZ             25\n",
       "Name: ST, dtype: int64"
      ]
     },
     "execution_count": 5,
     "metadata": {},
     "output_type": "execute_result"
    }
   ],
   "source": [
    "top_5_less_common_locations = df['ST'].value_counts().tail(5)\n",
    "\n",
    "top_5_less_common_locations"
   ]
  },
  {
   "cell_type": "code",
   "execution_count": 14,
   "id": "ae93078d",
   "metadata": {},
   "outputs": [
    {
     "data": {
      "text/html": [
       "<div>\n",
       "<style scoped>\n",
       "    .dataframe tbody tr th:only-of-type {\n",
       "        vertical-align: middle;\n",
       "    }\n",
       "\n",
       "    .dataframe tbody tr th {\n",
       "        vertical-align: top;\n",
       "    }\n",
       "\n",
       "    .dataframe thead th {\n",
       "        text-align: right;\n",
       "    }\n",
       "</style>\n",
       "<table border=\"1\" class=\"dataframe\">\n",
       "  <thead>\n",
       "    <tr style=\"text-align: right;\">\n",
       "      <th></th>\n",
       "      <th>Customer</th>\n",
       "      <th>ST</th>\n",
       "      <th>GENDER</th>\n",
       "      <th>Education</th>\n",
       "      <th>Customer Lifetime Value</th>\n",
       "      <th>Income</th>\n",
       "      <th>Monthly Premium Auto</th>\n",
       "      <th>Number of Open Complaints</th>\n",
       "      <th>Policy Type</th>\n",
       "      <th>Vehicle Class</th>\n",
       "      <th>Total Claim Amount</th>\n",
       "    </tr>\n",
       "  </thead>\n",
       "  <tbody>\n",
       "    <tr>\n",
       "      <th>0</th>\n",
       "      <td>RB50392</td>\n",
       "      <td>Washington</td>\n",
       "      <td>NaN</td>\n",
       "      <td>Master</td>\n",
       "      <td>NaN</td>\n",
       "      <td>0.0</td>\n",
       "      <td>1000.0</td>\n",
       "      <td>1/0/00</td>\n",
       "      <td>Personal Auto</td>\n",
       "      <td>Four-Door Car</td>\n",
       "      <td>2.704934</td>\n",
       "    </tr>\n",
       "    <tr>\n",
       "      <th>1</th>\n",
       "      <td>QZ44356</td>\n",
       "      <td>Arizona</td>\n",
       "      <td>F</td>\n",
       "      <td>Bachelor</td>\n",
       "      <td>697953.59%</td>\n",
       "      <td>0.0</td>\n",
       "      <td>94.0</td>\n",
       "      <td>1/0/00</td>\n",
       "      <td>Personal Auto</td>\n",
       "      <td>Four-Door Car</td>\n",
       "      <td>1131.464935</td>\n",
       "    </tr>\n",
       "    <tr>\n",
       "      <th>2</th>\n",
       "      <td>AI49188</td>\n",
       "      <td>Nevada</td>\n",
       "      <td>F</td>\n",
       "      <td>Bachelor</td>\n",
       "      <td>1288743.17%</td>\n",
       "      <td>48767.0</td>\n",
       "      <td>108.0</td>\n",
       "      <td>1/0/00</td>\n",
       "      <td>Personal Auto</td>\n",
       "      <td>Two-Door Car</td>\n",
       "      <td>566.472247</td>\n",
       "    </tr>\n",
       "    <tr>\n",
       "      <th>4</th>\n",
       "      <td>GA49547</td>\n",
       "      <td>Washington</td>\n",
       "      <td>M</td>\n",
       "      <td>High School or Below</td>\n",
       "      <td>536307.65%</td>\n",
       "      <td>36357.0</td>\n",
       "      <td>68.0</td>\n",
       "      <td>1/0/00</td>\n",
       "      <td>Personal Auto</td>\n",
       "      <td>Four-Door Car</td>\n",
       "      <td>17.269323</td>\n",
       "    </tr>\n",
       "    <tr>\n",
       "      <th>5</th>\n",
       "      <td>OC83172</td>\n",
       "      <td>Oregon</td>\n",
       "      <td>F</td>\n",
       "      <td>Bachelor</td>\n",
       "      <td>825629.78%</td>\n",
       "      <td>62902.0</td>\n",
       "      <td>69.0</td>\n",
       "      <td>1/0/00</td>\n",
       "      <td>Personal Auto</td>\n",
       "      <td>Two-Door Car</td>\n",
       "      <td>159.383042</td>\n",
       "    </tr>\n",
       "    <tr>\n",
       "      <th>...</th>\n",
       "      <td>...</td>\n",
       "      <td>...</td>\n",
       "      <td>...</td>\n",
       "      <td>...</td>\n",
       "      <td>...</td>\n",
       "      <td>...</td>\n",
       "      <td>...</td>\n",
       "      <td>...</td>\n",
       "      <td>...</td>\n",
       "      <td>...</td>\n",
       "      <td>...</td>\n",
       "    </tr>\n",
       "    <tr>\n",
       "      <th>1065</th>\n",
       "      <td>XD85577</td>\n",
       "      <td>California</td>\n",
       "      <td>M</td>\n",
       "      <td>Bachelor</td>\n",
       "      <td>284226.69%</td>\n",
       "      <td>69417.0</td>\n",
       "      <td>73.0</td>\n",
       "      <td>1/1/00</td>\n",
       "      <td>Personal Auto</td>\n",
       "      <td>Four-Door Car</td>\n",
       "      <td>30.874869</td>\n",
       "    </tr>\n",
       "    <tr>\n",
       "      <th>1066</th>\n",
       "      <td>TM65736</td>\n",
       "      <td>Oregon</td>\n",
       "      <td>M</td>\n",
       "      <td>Master</td>\n",
       "      <td>305955.03%</td>\n",
       "      <td>38644.0</td>\n",
       "      <td>78.0</td>\n",
       "      <td>1/1/00</td>\n",
       "      <td>Personal Auto</td>\n",
       "      <td>Four-Door Car</td>\n",
       "      <td>361.455219</td>\n",
       "    </tr>\n",
       "    <tr>\n",
       "      <th>1067</th>\n",
       "      <td>VJ51327</td>\n",
       "      <td>California</td>\n",
       "      <td>F</td>\n",
       "      <td>High School or Below</td>\n",
       "      <td>2031499.76%</td>\n",
       "      <td>63209.0</td>\n",
       "      <td>102.0</td>\n",
       "      <td>1/2/00</td>\n",
       "      <td>Personal Auto</td>\n",
       "      <td>SUV</td>\n",
       "      <td>207.320041</td>\n",
       "    </tr>\n",
       "    <tr>\n",
       "      <th>1068</th>\n",
       "      <td>GS98873</td>\n",
       "      <td>Arizona</td>\n",
       "      <td>F</td>\n",
       "      <td>Bachelor</td>\n",
       "      <td>323912.47%</td>\n",
       "      <td>16061.0</td>\n",
       "      <td>88.0</td>\n",
       "      <td>1/0/00</td>\n",
       "      <td>Personal Auto</td>\n",
       "      <td>Four-Door Car</td>\n",
       "      <td>633.600000</td>\n",
       "    </tr>\n",
       "    <tr>\n",
       "      <th>1070</th>\n",
       "      <td>MY31220</td>\n",
       "      <td>California</td>\n",
       "      <td>F</td>\n",
       "      <td>College</td>\n",
       "      <td>899704.02%</td>\n",
       "      <td>54230.0</td>\n",
       "      <td>112.0</td>\n",
       "      <td>1/0/00</td>\n",
       "      <td>Personal Auto</td>\n",
       "      <td>Two-Door Car</td>\n",
       "      <td>537.600000</td>\n",
       "    </tr>\n",
       "  </tbody>\n",
       "</table>\n",
       "<p>780 rows × 11 columns</p>\n",
       "</div>"
      ],
      "text/plain": [
       "     Customer          ST GENDER             Education  \\\n",
       "0     RB50392  Washington    NaN                Master   \n",
       "1     QZ44356     Arizona      F              Bachelor   \n",
       "2     AI49188      Nevada      F              Bachelor   \n",
       "4     GA49547  Washington      M  High School or Below   \n",
       "5     OC83172      Oregon      F              Bachelor   \n",
       "...       ...         ...    ...                   ...   \n",
       "1065  XD85577  California      M              Bachelor   \n",
       "1066  TM65736      Oregon      M                Master   \n",
       "1067  VJ51327  California      F  High School or Below   \n",
       "1068  GS98873     Arizona      F              Bachelor   \n",
       "1070  MY31220  California      F               College   \n",
       "\n",
       "     Customer Lifetime Value   Income  Monthly Premium Auto  \\\n",
       "0                        NaN      0.0                1000.0   \n",
       "1                 697953.59%      0.0                  94.0   \n",
       "2                1288743.17%  48767.0                 108.0   \n",
       "4                 536307.65%  36357.0                  68.0   \n",
       "5                 825629.78%  62902.0                  69.0   \n",
       "...                      ...      ...                   ...   \n",
       "1065              284226.69%  69417.0                  73.0   \n",
       "1066              305955.03%  38644.0                  78.0   \n",
       "1067             2031499.76%  63209.0                 102.0   \n",
       "1068              323912.47%  16061.0                  88.0   \n",
       "1070              899704.02%  54230.0                 112.0   \n",
       "\n",
       "     Number of Open Complaints    Policy Type  Vehicle Class  \\\n",
       "0                       1/0/00  Personal Auto  Four-Door Car   \n",
       "1                       1/0/00  Personal Auto  Four-Door Car   \n",
       "2                       1/0/00  Personal Auto   Two-Door Car   \n",
       "4                       1/0/00  Personal Auto  Four-Door Car   \n",
       "5                       1/0/00  Personal Auto   Two-Door Car   \n",
       "...                        ...            ...            ...   \n",
       "1065                    1/1/00  Personal Auto  Four-Door Car   \n",
       "1066                    1/1/00  Personal Auto  Four-Door Car   \n",
       "1067                    1/2/00  Personal Auto            SUV   \n",
       "1068                    1/0/00  Personal Auto  Four-Door Car   \n",
       "1070                    1/0/00  Personal Auto   Two-Door Car   \n",
       "\n",
       "      Total Claim Amount  \n",
       "0               2.704934  \n",
       "1            1131.464935  \n",
       "2             566.472247  \n",
       "4              17.269323  \n",
       "5             159.383042  \n",
       "...                  ...  \n",
       "1065           30.874869  \n",
       "1066          361.455219  \n",
       "1067          207.320041  \n",
       "1068          633.600000  \n",
       "1070          537.600000  \n",
       "\n",
       "[780 rows x 11 columns]"
      ]
     },
     "execution_count": 14,
     "metadata": {},
     "output_type": "execute_result"
    }
   ],
   "source": [
    "pkw_policy = df.loc[df['Policy Type' ]== 'Personal Auto']\n",
    "pkw_policy"
   ]
  },
  {
   "cell_type": "code",
   "execution_count": 15,
   "id": "10a13bc0",
   "metadata": {},
   "outputs": [],
   "source": [
    "corporate_policy = df.loc[df['Policy Type' ]== 'Corporate Auto']"
   ]
  },
  {
   "cell_type": "code",
   "execution_count": 16,
   "id": "2a81188a",
   "metadata": {},
   "outputs": [
    {
     "data": {
      "text/html": [
       "<div>\n",
       "<style scoped>\n",
       "    .dataframe tbody tr th:only-of-type {\n",
       "        vertical-align: middle;\n",
       "    }\n",
       "\n",
       "    .dataframe tbody tr th {\n",
       "        vertical-align: top;\n",
       "    }\n",
       "\n",
       "    .dataframe thead th {\n",
       "        text-align: right;\n",
       "    }\n",
       "</style>\n",
       "<table border=\"1\" class=\"dataframe\">\n",
       "  <thead>\n",
       "    <tr style=\"text-align: right;\">\n",
       "      <th></th>\n",
       "      <th>Customer</th>\n",
       "      <th>ST</th>\n",
       "      <th>GENDER</th>\n",
       "      <th>Education</th>\n",
       "      <th>Customer Lifetime Value</th>\n",
       "      <th>Income</th>\n",
       "      <th>Monthly Premium Auto</th>\n",
       "      <th>Number of Open Complaints</th>\n",
       "      <th>Policy Type</th>\n",
       "      <th>Vehicle Class</th>\n",
       "      <th>Total Claim Amount</th>\n",
       "    </tr>\n",
       "  </thead>\n",
       "  <tbody>\n",
       "    <tr>\n",
       "      <th>3</th>\n",
       "      <td>WW63253</td>\n",
       "      <td>California</td>\n",
       "      <td>M</td>\n",
       "      <td>Bachelor</td>\n",
       "      <td>764586.18%</td>\n",
       "      <td>0.0</td>\n",
       "      <td>106.0</td>\n",
       "      <td>1/0/00</td>\n",
       "      <td>Corporate Auto</td>\n",
       "      <td>SUV</td>\n",
       "      <td>529.881344</td>\n",
       "    </tr>\n",
       "    <tr>\n",
       "      <th>6</th>\n",
       "      <td>XZ87318</td>\n",
       "      <td>Oregon</td>\n",
       "      <td>F</td>\n",
       "      <td>College</td>\n",
       "      <td>538089.86%</td>\n",
       "      <td>55350.0</td>\n",
       "      <td>67.0</td>\n",
       "      <td>1/0/00</td>\n",
       "      <td>Corporate Auto</td>\n",
       "      <td>Four-Door Car</td>\n",
       "      <td>321.600000</td>\n",
       "    </tr>\n",
       "    <tr>\n",
       "      <th>7</th>\n",
       "      <td>CF85061</td>\n",
       "      <td>Arizona</td>\n",
       "      <td>M</td>\n",
       "      <td>Master</td>\n",
       "      <td>721610.03%</td>\n",
       "      <td>0.0</td>\n",
       "      <td>101.0</td>\n",
       "      <td>1/0/00</td>\n",
       "      <td>Corporate Auto</td>\n",
       "      <td>Four-Door Car</td>\n",
       "      <td>363.029680</td>\n",
       "    </tr>\n",
       "    <tr>\n",
       "      <th>8</th>\n",
       "      <td>DY87989</td>\n",
       "      <td>Oregon</td>\n",
       "      <td>M</td>\n",
       "      <td>Bachelor</td>\n",
       "      <td>2412750.40%</td>\n",
       "      <td>14072.0</td>\n",
       "      <td>71.0</td>\n",
       "      <td>1/0/00</td>\n",
       "      <td>Corporate Auto</td>\n",
       "      <td>Four-Door Car</td>\n",
       "      <td>511.200000</td>\n",
       "    </tr>\n",
       "    <tr>\n",
       "      <th>12</th>\n",
       "      <td>DP39365</td>\n",
       "      <td>California</td>\n",
       "      <td>NaN</td>\n",
       "      <td>Master</td>\n",
       "      <td>879879.70%</td>\n",
       "      <td>77026.0</td>\n",
       "      <td>110.0</td>\n",
       "      <td>1/2/00</td>\n",
       "      <td>Corporate Auto</td>\n",
       "      <td>Four-Door Car</td>\n",
       "      <td>472.029737</td>\n",
       "    </tr>\n",
       "    <tr>\n",
       "      <th>...</th>\n",
       "      <td>...</td>\n",
       "      <td>...</td>\n",
       "      <td>...</td>\n",
       "      <td>...</td>\n",
       "      <td>...</td>\n",
       "      <td>...</td>\n",
       "      <td>...</td>\n",
       "      <td>...</td>\n",
       "      <td>...</td>\n",
       "      <td>...</td>\n",
       "      <td>...</td>\n",
       "    </tr>\n",
       "    <tr>\n",
       "      <th>1045</th>\n",
       "      <td>WZ31900</td>\n",
       "      <td>Oregon</td>\n",
       "      <td>F</td>\n",
       "      <td>Bachelor</td>\n",
       "      <td>864970.06%</td>\n",
       "      <td>94389.0</td>\n",
       "      <td>107.0</td>\n",
       "      <td>1/0/00</td>\n",
       "      <td>Corporate Auto</td>\n",
       "      <td>SUV</td>\n",
       "      <td>85.063708</td>\n",
       "    </tr>\n",
       "    <tr>\n",
       "      <th>1050</th>\n",
       "      <td>BJ53923</td>\n",
       "      <td>Arizona</td>\n",
       "      <td>M</td>\n",
       "      <td>High School or Below</td>\n",
       "      <td>260027.21%</td>\n",
       "      <td>51978.0</td>\n",
       "      <td>66.0</td>\n",
       "      <td>1/0/00</td>\n",
       "      <td>Corporate Auto</td>\n",
       "      <td>Four-Door Car</td>\n",
       "      <td>144.782152</td>\n",
       "    </tr>\n",
       "    <tr>\n",
       "      <th>1052</th>\n",
       "      <td>FB23788</td>\n",
       "      <td>Oregon</td>\n",
       "      <td>M</td>\n",
       "      <td>High School or Below</td>\n",
       "      <td>882883.50%</td>\n",
       "      <td>86721.0</td>\n",
       "      <td>111.0</td>\n",
       "      <td>1/0/00</td>\n",
       "      <td>Corporate Auto</td>\n",
       "      <td>SUV</td>\n",
       "      <td>532.800000</td>\n",
       "    </tr>\n",
       "    <tr>\n",
       "      <th>1056</th>\n",
       "      <td>PI47776</td>\n",
       "      <td>Oregon</td>\n",
       "      <td>F</td>\n",
       "      <td>Bachelor</td>\n",
       "      <td>253070.51%</td>\n",
       "      <td>89451.0</td>\n",
       "      <td>63.0</td>\n",
       "      <td>1/0/00</td>\n",
       "      <td>Corporate Auto</td>\n",
       "      <td>Four-Door Car</td>\n",
       "      <td>61.769564</td>\n",
       "    </tr>\n",
       "    <tr>\n",
       "      <th>1059</th>\n",
       "      <td>YG44474</td>\n",
       "      <td>Oregon</td>\n",
       "      <td>M</td>\n",
       "      <td>College</td>\n",
       "      <td>1401472.13%</td>\n",
       "      <td>54193.0</td>\n",
       "      <td>117.0</td>\n",
       "      <td>1/0/00</td>\n",
       "      <td>Corporate Auto</td>\n",
       "      <td>SUV</td>\n",
       "      <td>720.752945</td>\n",
       "    </tr>\n",
       "  </tbody>\n",
       "</table>\n",
       "<p>234 rows × 11 columns</p>\n",
       "</div>"
      ],
      "text/plain": [
       "     Customer          ST GENDER             Education  \\\n",
       "3     WW63253  California      M              Bachelor   \n",
       "6     XZ87318      Oregon      F               College   \n",
       "7     CF85061     Arizona      M                Master   \n",
       "8     DY87989      Oregon      M              Bachelor   \n",
       "12    DP39365  California    NaN                Master   \n",
       "...       ...         ...    ...                   ...   \n",
       "1045  WZ31900      Oregon      F              Bachelor   \n",
       "1050  BJ53923     Arizona      M  High School or Below   \n",
       "1052  FB23788      Oregon      M  High School or Below   \n",
       "1056  PI47776      Oregon      F              Bachelor   \n",
       "1059  YG44474      Oregon      M               College   \n",
       "\n",
       "     Customer Lifetime Value   Income  Monthly Premium Auto  \\\n",
       "3                 764586.18%      0.0                 106.0   \n",
       "6                 538089.86%  55350.0                  67.0   \n",
       "7                 721610.03%      0.0                 101.0   \n",
       "8                2412750.40%  14072.0                  71.0   \n",
       "12                879879.70%  77026.0                 110.0   \n",
       "...                      ...      ...                   ...   \n",
       "1045              864970.06%  94389.0                 107.0   \n",
       "1050              260027.21%  51978.0                  66.0   \n",
       "1052              882883.50%  86721.0                 111.0   \n",
       "1056              253070.51%  89451.0                  63.0   \n",
       "1059             1401472.13%  54193.0                 117.0   \n",
       "\n",
       "     Number of Open Complaints     Policy Type  Vehicle Class  \\\n",
       "3                       1/0/00  Corporate Auto            SUV   \n",
       "6                       1/0/00  Corporate Auto  Four-Door Car   \n",
       "7                       1/0/00  Corporate Auto  Four-Door Car   \n",
       "8                       1/0/00  Corporate Auto  Four-Door Car   \n",
       "12                      1/2/00  Corporate Auto  Four-Door Car   \n",
       "...                        ...             ...            ...   \n",
       "1045                    1/0/00  Corporate Auto            SUV   \n",
       "1050                    1/0/00  Corporate Auto  Four-Door Car   \n",
       "1052                    1/0/00  Corporate Auto            SUV   \n",
       "1056                    1/0/00  Corporate Auto  Four-Door Car   \n",
       "1059                    1/0/00  Corporate Auto            SUV   \n",
       "\n",
       "      Total Claim Amount  \n",
       "3             529.881344  \n",
       "6             321.600000  \n",
       "7             363.029680  \n",
       "8             511.200000  \n",
       "12            472.029737  \n",
       "...                  ...  \n",
       "1045           85.063708  \n",
       "1050          144.782152  \n",
       "1052          532.800000  \n",
       "1056           61.769564  \n",
       "1059          720.752945  \n",
       "\n",
       "[234 rows x 11 columns]"
      ]
     },
     "execution_count": 16,
     "metadata": {},
     "output_type": "execute_result"
    }
   ],
   "source": [
    "corporate_policy"
   ]
  },
  {
   "cell_type": "code",
   "execution_count": 20,
   "id": "785fb563",
   "metadata": {},
   "outputs": [
    {
     "data": {
      "text/plain": [
       "count      780.000000\n",
       "mean     38180.698718\n",
       "std      29952.165621\n",
       "min          0.000000\n",
       "25%      12096.000000\n",
       "50%      35211.500000\n",
       "75%      62774.000000\n",
       "max      99790.000000\n",
       "Name: Income, dtype: float64"
      ]
     },
     "execution_count": 20,
     "metadata": {},
     "output_type": "execute_result"
    }
   ],
   "source": [
    "personal_income = pkw_policy['Income'].describe()\n",
    "personal_income"
   ]
  },
  {
   "cell_type": "code",
   "execution_count": 22,
   "id": "9d663fef",
   "metadata": {},
   "outputs": [
    {
     "data": {
      "text/plain": [
       "count      234.000000\n",
       "mean     41390.311966\n",
       "std      31708.868459\n",
       "min          0.000000\n",
       "25%      16325.500000\n",
       "50%      39155.500000\n",
       "75%      69843.000000\n",
       "max      99960.000000\n",
       "Name: Income, dtype: float64"
      ]
     },
     "execution_count": 22,
     "metadata": {},
     "output_type": "execute_result"
    }
   ],
   "source": [
    "corporate_income = corporate_policy['Income'].describe()\n",
    "corporate_income"
   ]
  },
  {
   "cell_type": "code",
   "execution_count": null,
   "id": "7209ed06",
   "metadata": {},
   "outputs": [],
   "source": []
  }
 ],
 "metadata": {
  "kernelspec": {
   "display_name": "Python 3 (ipykernel)",
   "language": "python",
   "name": "python3"
  },
  "language_info": {
   "codemirror_mode": {
    "name": "ipython",
    "version": 3
   },
   "file_extension": ".py",
   "mimetype": "text/x-python",
   "name": "python",
   "nbconvert_exporter": "python",
   "pygments_lexer": "ipython3",
   "version": "3.10.9"
  }
 },
 "nbformat": 4,
 "nbformat_minor": 5
}
