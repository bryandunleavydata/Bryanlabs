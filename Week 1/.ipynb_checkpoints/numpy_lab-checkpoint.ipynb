{
 "cells": [
  {
   "cell_type": "markdown",
   "id": "0c04c91b",
   "metadata": {},
   "source": [
    "1. Import the numpy package under the name np\n"
   ]
  },
  {
   "cell_type": "code",
   "execution_count": 1,
   "id": "f2643f03",
   "metadata": {},
   "outputs": [],
   "source": [
    "import numpy as np"
   ]
  },
  {
   "cell_type": "markdown",
   "id": "b2b3a587",
   "metadata": {},
   "source": [
    "Create a null vector of size 10"
   ]
  },
  {
   "cell_type": "code",
   "execution_count": 3,
   "id": "a1b45a5d",
   "metadata": {},
   "outputs": [
    {
     "name": "stdout",
     "output_type": "stream",
     "text": [
      "[0. 0. 0. 0. 0. 0. 0. 0. 0. 0.]\n"
     ]
    }
   ],
   "source": [
    "null_vector = np.zeros(10)\n",
    "print(null_vector)"
   ]
  },
  {
   "cell_type": "markdown",
   "id": "5d5de21e",
   "metadata": {},
   "source": [
    "Create a null vector of size 10 but the fifth value which is 1 "
   ]
  },
  {
   "cell_type": "code",
   "execution_count": 9,
   "id": "318a999a",
   "metadata": {},
   "outputs": [
    {
     "name": "stdout",
     "output_type": "stream",
     "text": [
      "[0. 0. 0. 0. 0. 0. 0. 0. 0. 0.]\n"
     ]
    }
   ],
   "source": [
    "print(null_vector)"
   ]
  },
  {
   "cell_type": "code",
   "execution_count": 10,
   "id": "2d6945a2",
   "metadata": {},
   "outputs": [
    {
     "name": "stdout",
     "output_type": "stream",
     "text": [
      "[0. 0. 0. 0. 1. 0. 0. 0. 0. 0.]\n"
     ]
    }
   ],
   "source": [
    "null_vector[4] = 1\n",
    "print(null_vector)"
   ]
  },
  {
   "cell_type": "markdown",
   "id": "0db5848f",
   "metadata": {},
   "source": [
    "Create a vector with values ranging from 10 to 49"
   ]
  },
  {
   "cell_type": "code",
   "execution_count": 16,
   "id": "79738463",
   "metadata": {},
   "outputs": [
    {
     "name": "stdout",
     "output_type": "stream",
     "text": [
      "[10 11 12 13 14 15 16 17 18 19 20 21 22 23 24 25 26 27 28 29 30 31 32 33\n",
      " 34 35 36 37 38 39 40 41 42 43 44 45 46 47 48 49]\n"
     ]
    }
   ],
   "source": [
    "vector_range_39 = np.arange(10,50) \n",
    "print(vector_range_39)"
   ]
  },
  {
   "cell_type": "markdown",
   "id": "fc1fbd31",
   "metadata": {},
   "source": [
    "Create a 3x3 matrix with values ranging from 0 to 8"
   ]
  },
  {
   "cell_type": "code",
   "execution_count": 23,
   "id": "05a4a3f4",
   "metadata": {},
   "outputs": [
    {
     "name": "stdout",
     "output_type": "stream",
     "text": [
      "[[0 1 2]\n",
      " [3 4 5]\n",
      " [6 7 8]]\n"
     ]
    }
   ],
   "source": [
    "vector_10 = np.arange(0,9)\n",
    "vector_shift_matrix = vector_10.reshape((3,3))\n",
    "print(vector_shift_matrix)"
   ]
  },
  {
   "cell_type": "markdown",
   "id": "0e324f56",
   "metadata": {},
   "source": [
    "Find indices of non-zero elements from [1,2,0,0,4,0]"
   ]
  },
  {
   "cell_type": "code",
   "execution_count": 83,
   "id": "068d16ba",
   "metadata": {},
   "outputs": [
    {
     "name": "stdout",
     "output_type": "stream",
     "text": [
      "[1 2 4]\n"
     ]
    }
   ],
   "source": [
    "lst_a =  [1,2,0,0,4,0] #x[np.nonzero(x)]\n",
    "x = np.array([1, 2, 0, 0, 4, 0])\n",
    "nonzero_elements = x[np.nonzero(x)]\n",
    "print(nonzero_elements)"
   ]
  },
  {
   "cell_type": "markdown",
   "id": "1fbd13b8",
   "metadata": {},
   "source": [
    "Create a 3x3 identity matrix"
   ]
  },
  {
   "cell_type": "code",
   "execution_count": 65,
   "id": "708ab28a",
   "metadata": {},
   "outputs": [],
   "source": [
    "null_vector_9 = np.zeros(9)"
   ]
  },
  {
   "cell_type": "code",
   "execution_count": 66,
   "id": "447cc5b2",
   "metadata": {},
   "outputs": [
    {
     "data": {
      "text/plain": [
       "array([0., 0., 0., 0., 0., 0., 0., 0., 0.])"
      ]
     },
     "execution_count": 66,
     "metadata": {},
     "output_type": "execute_result"
    }
   ],
   "source": [
    "null_vector_9"
   ]
  },
  {
   "cell_type": "code",
   "execution_count": 67,
   "id": "80574d74",
   "metadata": {},
   "outputs": [],
   "source": [
    "null_vector_9[0] = 1 #1st position"
   ]
  },
  {
   "cell_type": "code",
   "execution_count": 68,
   "id": "ef0dcc68",
   "metadata": {},
   "outputs": [
    {
     "data": {
      "text/plain": [
       "array([1., 0., 0., 0., 0., 0., 0., 0., 0.])"
      ]
     },
     "execution_count": 68,
     "metadata": {},
     "output_type": "execute_result"
    }
   ],
   "source": [
    "null_vector_9"
   ]
  },
  {
   "cell_type": "code",
   "execution_count": 69,
   "id": "cfd9590b",
   "metadata": {},
   "outputs": [],
   "source": [
    "null_vector_9[4] = 1 #5th position"
   ]
  },
  {
   "cell_type": "code",
   "execution_count": 70,
   "id": "17967141",
   "metadata": {},
   "outputs": [
    {
     "data": {
      "text/plain": [
       "array([1., 0., 0., 0., 1., 0., 0., 0., 0.])"
      ]
     },
     "execution_count": 70,
     "metadata": {},
     "output_type": "execute_result"
    }
   ],
   "source": [
    "null_vector_9"
   ]
  },
  {
   "cell_type": "code",
   "execution_count": 71,
   "id": "aa92a315",
   "metadata": {},
   "outputs": [],
   "source": [
    "null_vector_9[1] = 0 #2nd position"
   ]
  },
  {
   "cell_type": "code",
   "execution_count": 72,
   "id": "c0788d1c",
   "metadata": {},
   "outputs": [],
   "source": [
    "null_vector_9[8] = 1 #9th position"
   ]
  },
  {
   "cell_type": "code",
   "execution_count": 64,
   "id": "a4b44f7b",
   "metadata": {},
   "outputs": [
    {
     "name": "stdout",
     "output_type": "stream",
     "text": [
      "[[1. 0. 0.]\n",
      " [0. 1. 0.]\n",
      " [0. 0. 1.]]\n"
     ]
    }
   ],
   "source": [
    "identity_matrix = null_vector_9.reshape(3,3)\n",
    "print(identity_matrix)"
   ]
  },
  {
   "cell_type": "markdown",
   "id": "f454f68f",
   "metadata": {},
   "source": [
    "#alternative with np.eye"
   ]
  },
  {
   "cell_type": "code",
   "execution_count": 80,
   "id": "8a624b94",
   "metadata": {},
   "outputs": [
    {
     "data": {
      "text/plain": [
       "array([[1., 0., 0.],\n",
       "       [0., 1., 0.],\n",
       "       [0., 0., 1.]])"
      ]
     },
     "execution_count": 80,
     "metadata": {},
     "output_type": "execute_result"
    }
   ],
   "source": [
    "np.eye(3)"
   ]
  },
  {
   "cell_type": "code",
   "execution_count": 75,
   "id": "fcfd6a02",
   "metadata": {},
   "outputs": [
    {
     "data": {
      "text/plain": [
       "array([[1., 0., 0.],\n",
       "       [0., 1., 0.],\n",
       "       [0., 0., 1.]])"
      ]
     },
     "execution_count": 75,
     "metadata": {},
     "output_type": "execute_result"
    }
   ],
   "source": [
    "np.identity(3)"
   ]
  },
  {
   "cell_type": "markdown",
   "id": "cdef3987",
   "metadata": {},
   "source": [
    "Create a 3x3x3 array with random values"
   ]
  },
  {
   "cell_type": "code",
   "execution_count": 103,
   "id": "0f209db2",
   "metadata": {},
   "outputs": [
    {
     "name": "stdout",
     "output_type": "stream",
     "text": [
      "[[[0.81765563 0.91189329 0.61376717]\n",
      "  [0.67383965 0.14076591 0.16850972]\n",
      "  [0.32638864 0.43360514 0.3144987 ]]\n",
      "\n",
      " [[0.2479384  0.7656333  0.06579374]\n",
      "  [0.62591829 0.98199963 0.50097952]\n",
      "  [0.25946205 0.93172954 0.31122655]]\n",
      "\n",
      " [[0.28367631 0.4505895  0.3703236 ]\n",
      "  [0.68015618 0.18774197 0.54348271]\n",
      "  [0.77289119 0.03755183 0.01988   ]]]\n"
     ]
    }
   ],
   "source": [
    "three_array = np.random.random((3,3,3))\n",
    "print(three_array)"
   ]
  },
  {
   "cell_type": "code",
   "execution_count": 99,
   "id": "ed3f498a",
   "metadata": {},
   "outputs": [
    {
     "ename": "ValueError",
     "evalue": "cannot reshape array of size 81 into shape (3,3)",
     "output_type": "error",
     "traceback": [
      "\u001b[0;31m---------------------------------------------------------------------------\u001b[0m",
      "\u001b[0;31mValueError\u001b[0m                                Traceback (most recent call last)",
      "Cell \u001b[0;32mIn[99], line 1\u001b[0m\n\u001b[0;32m----> 1\u001b[0m Three_Three_Three \u001b[38;5;241m=\u001b[39m \u001b[43mlarge_array\u001b[49m\u001b[38;5;241;43m.\u001b[39;49m\u001b[43mreshape\u001b[49m\u001b[43m \u001b[49m\u001b[43m(\u001b[49m\u001b[43m(\u001b[49m\u001b[38;5;241;43m3\u001b[39;49m\u001b[43m,\u001b[49m\u001b[38;5;241;43m3\u001b[39;49m\u001b[43m)\u001b[49m\u001b[43m)\u001b[49m\n",
      "\u001b[0;31mValueError\u001b[0m: cannot reshape array of size 81 into shape (3,3)"
     ]
    }
   ],
   "source": [
    "Three_Three_Three = large_array.reshape ((3,3))"
   ]
  },
  {
   "cell_type": "markdown",
   "id": "83fd43a0",
   "metadata": {},
   "source": [
    "Create a 10x10 array with random values and find the minimum and maximum values"
   ]
  },
  {
   "cell_type": "code",
   "execution_count": 100,
   "id": "8881091f",
   "metadata": {},
   "outputs": [
    {
     "name": "stdout",
     "output_type": "stream",
     "text": [
      "[[0.30900601 0.84131346 0.86906863]\n",
      " [0.12845463 0.48019264 0.89319356]\n",
      " [0.62925543 0.60151113 0.06814203]]\n"
     ]
    }
   ],
   "source": [
    "print(Three_Three_Three)"
   ]
  },
  {
   "cell_type": "code",
   "execution_count": 116,
   "id": "8442aa7d",
   "metadata": {},
   "outputs": [
    {
     "name": "stdout",
     "output_type": "stream",
     "text": [
      "[[0.38637227 0.01542118 0.09984809 0.58740932 0.24372913 0.25580718\n",
      "  0.33036029 0.64218339 0.9236108  0.37740084]\n",
      " [0.16399645 0.53664986 0.7706099  0.52718128 0.17296428 0.8669011\n",
      "  0.9502463  0.9756953  0.47570963 0.23466387]\n",
      " [0.41979803 0.17013522 0.3603842  0.32865729 0.87833265 0.20217541\n",
      "  0.05984551 0.18232849 0.27788712 0.25064732]\n",
      " [0.08789804 0.44182693 0.24557035 0.73240846 0.57497347 0.29643664\n",
      "  0.53606691 0.17027544 0.31351978 0.37604788]\n",
      " [0.85238807 0.03025556 0.39512051 0.38935056 0.85549359 0.72012873\n",
      "  0.19223689 0.13794046 0.63904025 0.23633321]\n",
      " [0.43738014 0.61929376 0.42696218 0.19172729 0.09216066 0.84047584\n",
      "  0.68314736 0.53938776 0.03586261 0.12911168]\n",
      " [0.53355185 0.59463381 0.96177937 0.44289395 0.66195243 0.11058826\n",
      "  0.29407871 0.99964947 0.74444114 0.48776905]\n",
      " [0.74526476 0.25389758 0.11428139 0.41404061 0.13475499 0.68032472\n",
      "  0.24488035 0.73645236 0.98555434 0.16724026]\n",
      " [0.41271573 0.04540567 0.46901076 0.37005801 0.56600795 0.01840381\n",
      "  0.90570721 0.95994967 0.61232489 0.69398655]\n",
      " [0.04490924 0.89534035 0.95470857 0.02856698 0.1192009  0.28511674\n",
      "  0.29088146 0.62452655 0.06228247 0.91380027]]\n"
     ]
    }
   ],
   "source": [
    "ten_array = np.random.random((10,10))\n",
    "print(ten_array)"
   ]
  },
  {
   "cell_type": "code",
   "execution_count": 117,
   "id": "a2dbda37",
   "metadata": {},
   "outputs": [
    {
     "name": "stdout",
     "output_type": "stream",
     "text": [
      "0.9996494722953458\n",
      "0.015421180298313075\n"
     ]
    }
   ],
   "source": [
    "max_value = np.max(ten_array)\n",
    "min_value = np.min(ten_array)\n",
    "print(max_value)\n",
    "print(min_value)"
   ]
  },
  {
   "cell_type": "markdown",
   "id": "e6a9d1fe",
   "metadata": {},
   "source": [
    "Create a random vector of size 30 and find the mean value"
   ]
  },
  {
   "cell_type": "code",
   "execution_count": 120,
   "id": "48a00572",
   "metadata": {},
   "outputs": [
    {
     "name": "stdout",
     "output_type": "stream",
     "text": [
      "[0.06469386 0.67376546 0.61340163 0.44028236 0.15379033 0.81705701\n",
      " 0.86311709 0.92655185 0.56311774 0.27363379 0.81273418 0.47915991\n",
      " 0.73367092 0.51630888 0.8272259  0.38642213 0.88807894 0.03048831\n",
      " 0.48791989 0.29996862 0.70655218 0.56001606 0.48642023 0.1725938\n",
      " 0.78504052 0.30456074 0.31225749 0.97554087 0.45275943 0.53776713]\n"
     ]
    }
   ],
   "source": [
    "rand_vect = np.random.rand(30)\n",
    "print(rand_vect)"
   ]
  },
  {
   "cell_type": "code",
   "execution_count": 121,
   "id": "190bd3c5",
   "metadata": {},
   "outputs": [
    {
     "data": {
      "text/plain": [
       "0.5381632416514843"
      ]
     },
     "execution_count": 121,
     "metadata": {},
     "output_type": "execute_result"
    }
   ],
   "source": [
    "np.mean(rand_vect)"
   ]
  },
  {
   "cell_type": "markdown",
   "id": "efee45ac",
   "metadata": {},
   "source": [
    "Create a 5x5 matrix with values 1,2,3,4 just below the diagonal"
   ]
  },
  {
   "cell_type": "code",
   "execution_count": 142,
   "id": "7b27de37",
   "metadata": {},
   "outputs": [
    {
     "name": "stdout",
     "output_type": "stream",
     "text": [
      "[[0. 0. 0. 0. 0.]\n",
      " [1. 0. 0. 0. 0.]\n",
      " [0. 2. 0. 0. 0.]\n",
      " [0. 0. 3. 0. 0.]\n",
      " [0. 0. 0. 4. 0.]]\n"
     ]
    }
   ],
   "source": [
    "vec_range_25 = np.zeros(25)\n",
    "vec_range_25[5] = 1\n",
    "vec_range_25[11]=2\n",
    "vec_range_25[17]=3\n",
    "vec_range_25[23]=4\n",
    "matrix_range_25 = vec_range_25.reshape(5,5)\n",
    "print(matrix_range_25)"
   ]
  },
  {
   "cell_type": "markdown",
   "id": "c6a6ca4a",
   "metadata": {},
   "source": [
    "Normalize a 5x5 random matrix"
   ]
  },
  {
   "cell_type": "code",
   "execution_count": 154,
   "id": "e5664926",
   "metadata": {},
   "outputs": [],
   "source": [
    "rand_matrix_5 = np.random.rand(5,5)"
   ]
  },
  {
   "cell_type": "code",
   "execution_count": 151,
   "id": "89badf05",
   "metadata": {},
   "outputs": [
    {
     "data": {
      "text/plain": [
       "array([[0.09527479, 0.55076985, 0.849994  , 0.06407341, 0.21678919],\n",
       "       [0.43657232, 0.22759778, 0.9408623 , 0.85772395, 0.00830763],\n",
       "       [0.99378011, 0.30724663, 0.89755718, 0.93857317, 0.64662938],\n",
       "       [0.7018802 , 0.81039544, 0.35055347, 0.88906258, 0.38491618],\n",
       "       [0.8989015 , 0.80220553, 0.58611733, 0.5998218 , 0.31998218]])"
      ]
     },
     "execution_count": 151,
     "metadata": {},
     "output_type": "execute_result"
    }
   ],
   "source": [
    "rand_matrix_5"
   ]
  },
  {
   "cell_type": "code",
   "execution_count": 152,
   "id": "584021a1",
   "metadata": {},
   "outputs": [
    {
     "name": "stdout",
     "output_type": "stream",
     "text": [
      "[[-1.62324758  0.04590568  0.55725152 -1.86515485 -0.47125658]\n",
      " [-0.57795875 -1.28740032  0.96241757  0.57845022 -1.46833968]\n",
      " [ 1.12859645 -0.9587943   0.76932752  0.82738042  1.58449548]\n",
      " [ 0.23459728  1.11703897 -1.6696676   0.67494011  0.33282696]\n",
      " [ 0.8380126   1.08324997 -0.61932901 -0.21561589  0.02227382]]\n"
     ]
    }
   ],
   "source": [
    "# compute the mean of each column\n",
    "col_mean = np.mean(rand_matrix_5 ,axis=0)\n",
    "# normalize each column by subtracting its mean and dividing by its standard deviation\n",
    "arr_normalized = (rand_matrix_5 - col_mean)/np.std(rand_matrix_5 ,axis=0)\n",
    "print(arr_normalized)"
   ]
  },
  {
   "cell_type": "markdown",
   "id": "ae9401c6",
   "metadata": {},
   "source": [
    "How to find common values between two arrays?"
   ]
  },
  {
   "cell_type": "code",
   "execution_count": 161,
   "id": "4a5aacca",
   "metadata": {},
   "outputs": [
    {
     "name": "stdout",
     "output_type": "stream",
     "text": [
      "[]\n"
     ]
    }
   ],
   "source": [
    "intersection_1 = np.intersect1d(rand_matrix_5,arr_normalized)\n",
    "print(intersection_1)"
   ]
  },
  {
   "cell_type": "code",
   "execution_count": 158,
   "id": "efcf1896",
   "metadata": {},
   "outputs": [],
   "source": [
    "list_left = [1,4,5,6,7,8,92]\n",
    "list_right = [3,4,2,5,6,7,89]"
   ]
  },
  {
   "cell_type": "code",
   "execution_count": 160,
   "id": "b9aead2f",
   "metadata": {},
   "outputs": [
    {
     "name": "stdout",
     "output_type": "stream",
     "text": [
      "[4 5 6 7]\n"
     ]
    }
   ],
   "source": [
    "intersection = np.intersect1d(list_left, list_right)\n",
    "print(intersection)"
   ]
  },
  {
   "cell_type": "markdown",
   "id": "0b4a68fa",
   "metadata": {},
   "source": [
    "Create a random vector of size 10 and sort it"
   ]
  },
  {
   "cell_type": "code",
   "execution_count": 166,
   "id": "4591a8e4",
   "metadata": {},
   "outputs": [
    {
     "name": "stdout",
     "output_type": "stream",
     "text": [
      "[0.05412994 0.10373939 0.17072783 0.3410947  0.39776338 0.45143049\n",
      " 0.46403726 0.65254141 0.67778324 0.7672618 ]\n"
     ]
    }
   ],
   "source": [
    "unsorted_vector = np.random.rand(10)\n",
    "sorted_vector = np.sort(unsorted_vector)\n",
    "print(sorted_vector)"
   ]
  },
  {
   "cell_type": "markdown",
   "id": "1e1a9a7c",
   "metadata": {},
   "source": [
    "Create random vector of size 10 and replace the maximum value by 0"
   ]
  },
  {
   "cell_type": "code",
   "execution_count": 174,
   "id": "ac63b144",
   "metadata": {},
   "outputs": [
    {
     "name": "stdout",
     "output_type": "stream",
     "text": [
      "[0.47099937 0.48560804 0.41332464 0.53395711 0.164955   0.29538543\n",
      " 0.26116343 0.65354476 0.12393693 0.        ]\n"
     ]
    }
   ],
   "source": [
    "rand_vect_10 = np.random.rand(10)\n",
    "#sort variable list and replace max value by 0\n",
    "np.sort(rand_vect_10)\n",
    "rand_vect_10[-1] = 0\n",
    "print(rand_vect_10)"
   ]
  },
  {
   "cell_type": "code",
   "execution_count": 184,
   "id": "618a4bb6",
   "metadata": {},
   "outputs": [
    {
     "name": "stdout",
     "output_type": "stream",
     "text": [
      "[0.15658338 0.30933228 0.         0.39248529 0.07541362 0.66619209\n",
      " 0.63120414 0.47285234 0.06111476 0.56706352]\n"
     ]
    }
   ],
   "source": [
    "x = np.random.rand(10)  # Create a random vector of size 10\n",
    "max_index = np.argmax(x)  # Find the index of the highest value\n",
    "x[max_index] = 0  # Replace the highest value in the vector with zero\n",
    "print(x)\n",
    "\n",
    "\n",
    "\n"
   ]
  },
  {
   "cell_type": "markdown",
   "id": "a32d5844",
   "metadata": {},
   "source": [
    "Subtract the mean of each row of a matrix "
   ]
  },
  {
   "cell_type": "code",
   "execution_count": 185,
   "id": "d07f0a5a",
   "metadata": {},
   "outputs": [
    {
     "data": {
      "text/plain": [
       "array([[-1.62324758,  0.04590568,  0.55725152, -1.86515485, -0.47125658],\n",
       "       [-0.57795875, -1.28740032,  0.96241757,  0.57845022, -1.46833968],\n",
       "       [ 1.12859645, -0.9587943 ,  0.76932752,  0.82738042,  1.58449548],\n",
       "       [ 0.23459728,  1.11703897, -1.6696676 ,  0.67494011,  0.33282696],\n",
       "       [ 0.8380126 ,  1.08324997, -0.61932901, -0.21561589,  0.02227382]])"
      ]
     },
     "execution_count": 185,
     "metadata": {},
     "output_type": "execute_result"
    }
   ],
   "source": [
    "arr_normalized"
   ]
  },
  {
   "cell_type": "code",
   "execution_count": 201,
   "id": "477c003f",
   "metadata": {},
   "outputs": [
    {
     "name": "stdout",
     "output_type": "stream",
     "text": [
      "Matrix minus mean value of each row:\n",
      "[[-0.95194722  0.71720604  1.22855188 -1.19385449  0.20004378]\n",
      " [-0.21939256 -0.92883413  1.32098376  0.93701641 -1.10977348]\n",
      " [ 0.45839534 -1.62899542  0.09912641  0.1571793   0.91429436]\n",
      " [ 0.09665014  0.97909183 -1.80761475  0.53699297  0.19487982]\n",
      " [ 0.61629431  0.86153167 -0.84104731 -0.43733419 -0.19944448]]\n"
     ]
    }
   ],
   "source": [
    "\n",
    "# Calculate the mean along each row\n",
    "submean = np.mean(arr_normalized, axis =1, keepdims = True)\n",
    "#The keepdims=True parameter is set to retain the dimensions of the mean array, resulting in a column vector submean.\n",
    "submean_matrix = arr_normalized - submean \n",
    "print(\"Matrix minus mean value of each row:\")\n",
    "print(submean_matrix)\n"
   ]
  },
  {
   "cell_type": "markdown",
   "id": "1546afaa",
   "metadata": {},
   "source": [
    "17. How to get the n largest values of an array (★★★)\n",
    "#example from https://stackoverflow.com/questions/10337533/a-fast-way-to-find-the-largest-n-elements-in-an-numpy-array\n"
   ]
  },
  {
   "cell_type": "code",
   "execution_count": 203,
   "id": "f8e1c0a0",
   "metadata": {},
   "outputs": [
    {
     "name": "stdout",
     "output_type": "stream",
     "text": [
      "[0 4 8 5]\n",
      "[9 8 6 7]\n"
     ]
    }
   ],
   "source": [
    "\n",
    "test = np.array([9,1,3,4,8,7,2,5,6,0])\n",
    "\n",
    "temp = np.argpartition(-test, 4)\n",
    "result_args = temp[:4]\n",
    "\n",
    "temp = np.partition(-test, 4)\n",
    "result = -temp[:4]\n",
    "print(result_args)\n",
    "print(result)"
   ]
  },
  {
   "cell_type": "code",
   "execution_count": 205,
   "id": "dd922088",
   "metadata": {},
   "outputs": [
    {
     "name": "stdout",
     "output_type": "stream",
     "text": [
      "550 µs ± 20.9 µs per loop (mean ± std. dev. of 7 runs, 1,000 loops each)\n",
      "95.5 µs ± 7.04 µs per loop (mean ± std. dev. of 7 runs, 10,000 loops each)\n",
      "95.4 µs ± 3.73 µs per loop (mean ± std. dev. of 7 runs, 10,000 loops each)\n"
     ]
    }
   ],
   "source": [
    " a = np.arange(10000)\n",
    "\n",
    "np.random.shuffle(a)\n",
    "\n",
    "%timeit np.argsort(a)\n",
    "#1000 loops, best of 3: 1.02 ms per loop\n",
    "\n",
    "%timeit np.argpartition(a, 100)\n",
    "#10000 loops, best of 3: 139 us per loop\n",
    "\n",
    "%timeit np.argpartition(a, 1000)\n",
    "#10000 loops, best of 3: 141 us per loop"
   ]
  },
  {
   "cell_type": "markdown",
   "id": "93fbb821",
   "metadata": {},
   "source": [
    "Create a random 5*3 matrix and replace items that are larger than 4 by their squares"
   ]
  },
  {
   "cell_type": "code",
   "execution_count": 215,
   "id": "b367b1e6",
   "metadata": {},
   "outputs": [],
   "source": [
    "cool_matrix = np.random.rand(3,5)"
   ]
  },
  {
   "cell_type": "code",
   "execution_count": 213,
   "id": "caeea7b4",
   "metadata": {},
   "outputs": [
    {
     "data": {
      "text/plain": [
       "array([[0.50816123, 0.87025786, 0.45047001, 0.1778567 , 0.34154966],\n",
       "       [0.73273193, 0.59605472, 0.78614992, 0.18080837, 0.32245675],\n",
       "       [0.898796  , 0.89562128, 0.93188839, 0.20768581, 0.3348637 ]])"
      ]
     },
     "execution_count": 213,
     "metadata": {},
     "output_type": "execute_result"
    }
   ],
   "source": [
    "cool_matrix"
   ]
  },
  {
   "cell_type": "code",
   "execution_count": 217,
   "id": "ec29fa0b",
   "metadata": {},
   "outputs": [
    {
     "name": "stdout",
     "output_type": "stream",
     "text": [
      "[[0.04584153 0.05753622 0.89975584 0.99575204 0.39089434]\n",
      " [0.36959939 0.84854838 0.66447935 0.06901879 0.64102788]\n",
      " [0.15023225 0.8463277  0.36476888 0.96893147 0.14259033]]\n"
     ]
    }
   ],
   "source": [
    "squared_matrix = np.where(cool_matrix > 4, cool_matrix**2, cool_matrix)\n",
    "print(squared_matrix)"
   ]
  },
  {
   "cell_type": "code",
   "execution_count": null,
   "id": "75eb905c",
   "metadata": {},
   "outputs": [],
   "source": [
    "\n",
    "\n"
   ]
  }
 ],
 "metadata": {
  "kernelspec": {
   "display_name": "Python 3 (ipykernel)",
   "language": "python",
   "name": "python3"
  },
  "language_info": {
   "codemirror_mode": {
    "name": "ipython",
    "version": 3
   },
   "file_extension": ".py",
   "mimetype": "text/x-python",
   "name": "python",
   "nbconvert_exporter": "python",
   "pygments_lexer": "ipython3",
   "version": "3.10.9"
  }
 },
 "nbformat": 4,
 "nbformat_minor": 5
}
