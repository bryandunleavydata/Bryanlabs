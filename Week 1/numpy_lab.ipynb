{
 "cells": [
  {
   "cell_type": "markdown",
   "id": "d30db408",
   "metadata": {},
   "source": [
    "1. Import the numpy package under the name np\n"
   ]
  },
  {
   "cell_type": "code",
   "execution_count": 1,
   "id": "e60d526b",
   "metadata": {},
   "outputs": [],
   "source": [
    "import numpy as np"
   ]
  },
  {
   "cell_type": "markdown",
   "id": "5b3ae687",
   "metadata": {},
   "source": [
    "Create a null vector of size 10"
   ]
  },
  {
   "cell_type": "code",
   "execution_count": 3,
   "id": "06f383f2",
   "metadata": {},
   "outputs": [
    {
     "name": "stdout",
     "output_type": "stream",
     "text": [
      "[0. 0. 0. 0. 0. 0. 0. 0. 0. 0.]\n"
     ]
    }
   ],
   "source": [
    "null_vector = np.zeros(10)\n",
    "print(null_vector)"
   ]
  },
  {
   "cell_type": "markdown",
   "id": "939308e4",
   "metadata": {},
   "source": [
    "Create a null vector of size 10 but the fifth value which is 1 "
   ]
  },
  {
   "cell_type": "code",
   "execution_count": 9,
   "id": "30be5428",
   "metadata": {},
   "outputs": [
    {
     "name": "stdout",
     "output_type": "stream",
     "text": [
      "[0. 0. 0. 0. 0. 0. 0. 0. 0. 0.]\n"
     ]
    }
   ],
   "source": [
    "print(null_vector)"
   ]
  },
  {
   "cell_type": "code",
   "execution_count": 10,
   "id": "790757a8",
   "metadata": {},
   "outputs": [
    {
     "name": "stdout",
     "output_type": "stream",
     "text": [
      "[0. 0. 0. 0. 1. 0. 0. 0. 0. 0.]\n"
     ]
    }
   ],
   "source": [
    "null_vector[4] = 1\n",
    "print(null_vector)"
   ]
  },
  {
   "cell_type": "markdown",
   "id": "8327d361",
   "metadata": {},
   "source": [
    "Create a vector with values ranging from 10 to 49"
   ]
  },
  {
   "cell_type": "code",
   "execution_count": 16,
   "id": "8a4eab93",
   "metadata": {},
   "outputs": [
    {
     "name": "stdout",
     "output_type": "stream",
     "text": [
      "[10 11 12 13 14 15 16 17 18 19 20 21 22 23 24 25 26 27 28 29 30 31 32 33\n",
      " 34 35 36 37 38 39 40 41 42 43 44 45 46 47 48 49]\n"
     ]
    }
   ],
   "source": [
    "vector_range_39 = np.arange(10,50) \n",
    "print(vector_range_39)"
   ]
  },
  {
   "cell_type": "markdown",
   "id": "3d25439a",
   "metadata": {},
   "source": [
    "Create a 3x3 matrix with values ranging from 0 to 8"
   ]
  },
  {
   "cell_type": "code",
   "execution_count": 23,
   "id": "17b6c933",
   "metadata": {},
   "outputs": [
    {
     "name": "stdout",
     "output_type": "stream",
     "text": [
      "[[0 1 2]\n",
      " [3 4 5]\n",
      " [6 7 8]]\n"
     ]
    }
   ],
   "source": [
    "vector_10 = np.arange(0,9)\n",
    "vector_shift_matrix = vector_10.reshape((3,3))\n",
    "print(vector_shift_matrix)"
   ]
  },
  {
   "cell_type": "markdown",
   "id": "0ded7704",
   "metadata": {},
   "source": [
    "Find indices of non-zero elements from [1,2,0,0,4,0]"
   ]
  },
  {
   "cell_type": "code",
   "execution_count": 83,
   "id": "796f93a0",
   "metadata": {},
   "outputs": [
    {
     "name": "stdout",
     "output_type": "stream",
     "text": [
      "[1 2 4]\n"
     ]
    }
   ],
   "source": [
    "lst_a =  [1,2,0,0,4,0] #x[np.nonzero(x)]\n",
    "x = np.array([1, 2, 0, 0, 4, 0])\n",
    "nonzero_elements = x[np.nonzero(x)]\n",
    "print(nonzero_elements)"
   ]
  },
  {
   "cell_type": "markdown",
   "id": "41c67bba",
   "metadata": {},
   "source": [
    "Create a 3x3 identity matrix"
   ]
  },
  {
   "cell_type": "code",
   "execution_count": 65,
   "id": "93c4380d",
   "metadata": {},
   "outputs": [],
   "source": [
    "null_vector_9 = np.zeros(9)"
   ]
  },
  {
   "cell_type": "code",
   "execution_count": 66,
   "id": "bbb11a4f",
   "metadata": {},
   "outputs": [
    {
     "data": {
      "text/plain": [
       "array([0., 0., 0., 0., 0., 0., 0., 0., 0.])"
      ]
     },
     "execution_count": 66,
     "metadata": {},
     "output_type": "execute_result"
    }
   ],
   "source": [
    "null_vector_9"
   ]
  },
  {
   "cell_type": "code",
   "execution_count": 67,
   "id": "265e910d",
   "metadata": {},
   "outputs": [],
   "source": [
    "null_vector_9[0] = 1 #1st position"
   ]
  },
  {
   "cell_type": "code",
   "execution_count": 68,
   "id": "a1fffa9d",
   "metadata": {},
   "outputs": [
    {
     "data": {
      "text/plain": [
       "array([1., 0., 0., 0., 0., 0., 0., 0., 0.])"
      ]
     },
     "execution_count": 68,
     "metadata": {},
     "output_type": "execute_result"
    }
   ],
   "source": [
    "null_vector_9"
   ]
  },
  {
   "cell_type": "code",
   "execution_count": 69,
   "id": "1225abde",
   "metadata": {},
   "outputs": [],
   "source": [
    "null_vector_9[4] = 1 #5th position"
   ]
  },
  {
   "cell_type": "code",
   "execution_count": 70,
   "id": "3b3c3d19",
   "metadata": {},
   "outputs": [
    {
     "data": {
      "text/plain": [
       "array([1., 0., 0., 0., 1., 0., 0., 0., 0.])"
      ]
     },
     "execution_count": 70,
     "metadata": {},
     "output_type": "execute_result"
    }
   ],
   "source": [
    "null_vector_9"
   ]
  },
  {
   "cell_type": "code",
   "execution_count": 71,
   "id": "292961df",
   "metadata": {},
   "outputs": [],
   "source": [
    "null_vector_9[1] = 0 #2nd position"
   ]
  },
  {
   "cell_type": "code",
   "execution_count": 72,
   "id": "99230b5f",
   "metadata": {},
   "outputs": [],
   "source": [
    "null_vector_9[8] = 1 #9th position"
   ]
  },
  {
   "cell_type": "code",
   "execution_count": 64,
   "id": "2ff88fd5",
   "metadata": {},
   "outputs": [
    {
     "name": "stdout",
     "output_type": "stream",
     "text": [
      "[[1. 0. 0.]\n",
      " [0. 1. 0.]\n",
      " [0. 0. 1.]]\n"
     ]
    }
   ],
   "source": [
    "identity_matrix = null_vector_9.reshape(3,3)\n",
    "print(identity_matrix)"
   ]
  },
  {
   "cell_type": "markdown",
   "id": "a0fe6b39",
   "metadata": {},
   "source": [
    "#alternative with np.eye"
   ]
  },
  {
   "cell_type": "code",
   "execution_count": 80,
   "id": "f634f058",
   "metadata": {},
   "outputs": [
    {
     "data": {
      "text/plain": [
       "array([[1., 0., 0.],\n",
       "       [0., 1., 0.],\n",
       "       [0., 0., 1.]])"
      ]
     },
     "execution_count": 80,
     "metadata": {},
     "output_type": "execute_result"
    }
   ],
   "source": [
    "np.eye(3)"
   ]
  },
  {
   "cell_type": "code",
   "execution_count": 75,
   "id": "a274c5b9",
   "metadata": {},
   "outputs": [
    {
     "data": {
      "text/plain": [
       "array([[1., 0., 0.],\n",
       "       [0., 1., 0.],\n",
       "       [0., 0., 1.]])"
      ]
     },
     "execution_count": 75,
     "metadata": {},
     "output_type": "execute_result"
    }
   ],
   "source": [
    "np.identity(3)"
   ]
  },
  {
   "cell_type": "markdown",
   "id": "71597b2b",
   "metadata": {},
   "source": [
    "Create a 3x3x3 array with random values"
   ]
  },
  {
   "cell_type": "code",
   "execution_count": 103,
   "id": "463885b8",
   "metadata": {},
   "outputs": [
    {
     "name": "stdout",
     "output_type": "stream",
     "text": [
      "[[[0.81765563 0.91189329 0.61376717]\n",
      "  [0.67383965 0.14076591 0.16850972]\n",
      "  [0.32638864 0.43360514 0.3144987 ]]\n",
      "\n",
      " [[0.2479384  0.7656333  0.06579374]\n",
      "  [0.62591829 0.98199963 0.50097952]\n",
      "  [0.25946205 0.93172954 0.31122655]]\n",
      "\n",
      " [[0.28367631 0.4505895  0.3703236 ]\n",
      "  [0.68015618 0.18774197 0.54348271]\n",
      "  [0.77289119 0.03755183 0.01988   ]]]\n"
     ]
    }
   ],
   "source": [
    "three_array = np.random.random((3,3,3))\n",
    "print(three_array)"
   ]
  },
  {
   "cell_type": "markdown",
   "id": "3892d208",
   "metadata": {},
   "source": [
    "Create a 10x10 array with random values and find the minimum and maximum values"
   ]
  },
  {
   "cell_type": "code",
   "execution_count": 116,
   "id": "861bb959",
   "metadata": {},
   "outputs": [
    {
     "name": "stdout",
     "output_type": "stream",
     "text": [
      "[[0.38637227 0.01542118 0.09984809 0.58740932 0.24372913 0.25580718\n",
      "  0.33036029 0.64218339 0.9236108  0.37740084]\n",
      " [0.16399645 0.53664986 0.7706099  0.52718128 0.17296428 0.8669011\n",
      "  0.9502463  0.9756953  0.47570963 0.23466387]\n",
      " [0.41979803 0.17013522 0.3603842  0.32865729 0.87833265 0.20217541\n",
      "  0.05984551 0.18232849 0.27788712 0.25064732]\n",
      " [0.08789804 0.44182693 0.24557035 0.73240846 0.57497347 0.29643664\n",
      "  0.53606691 0.17027544 0.31351978 0.37604788]\n",
      " [0.85238807 0.03025556 0.39512051 0.38935056 0.85549359 0.72012873\n",
      "  0.19223689 0.13794046 0.63904025 0.23633321]\n",
      " [0.43738014 0.61929376 0.42696218 0.19172729 0.09216066 0.84047584\n",
      "  0.68314736 0.53938776 0.03586261 0.12911168]\n",
      " [0.53355185 0.59463381 0.96177937 0.44289395 0.66195243 0.11058826\n",
      "  0.29407871 0.99964947 0.74444114 0.48776905]\n",
      " [0.74526476 0.25389758 0.11428139 0.41404061 0.13475499 0.68032472\n",
      "  0.24488035 0.73645236 0.98555434 0.16724026]\n",
      " [0.41271573 0.04540567 0.46901076 0.37005801 0.56600795 0.01840381\n",
      "  0.90570721 0.95994967 0.61232489 0.69398655]\n",
      " [0.04490924 0.89534035 0.95470857 0.02856698 0.1192009  0.28511674\n",
      "  0.29088146 0.62452655 0.06228247 0.91380027]]\n"
     ]
    }
   ],
   "source": [
    "ten_array = np.random.random((10,10))\n",
    "print(ten_array)"
   ]
  },
  {
   "cell_type": "code",
   "execution_count": 117,
   "id": "51f23b51",
   "metadata": {},
   "outputs": [
    {
     "name": "stdout",
     "output_type": "stream",
     "text": [
      "0.9996494722953458\n",
      "0.015421180298313075\n"
     ]
    }
   ],
   "source": [
    "max_value = np.max(ten_array)\n",
    "min_value = np.min(ten_array)\n",
    "print(max_value)\n",
    "print(min_value)"
   ]
  },
  {
   "cell_type": "markdown",
   "id": "1817c221",
   "metadata": {},
   "source": [
    "Create a random vector of size 30 and find the mean value"
   ]
  },
  {
   "cell_type": "code",
   "execution_count": 120,
   "id": "5c08073d",
   "metadata": {},
   "outputs": [
    {
     "name": "stdout",
     "output_type": "stream",
     "text": [
      "[0.06469386 0.67376546 0.61340163 0.44028236 0.15379033 0.81705701\n",
      " 0.86311709 0.92655185 0.56311774 0.27363379 0.81273418 0.47915991\n",
      " 0.73367092 0.51630888 0.8272259  0.38642213 0.88807894 0.03048831\n",
      " 0.48791989 0.29996862 0.70655218 0.56001606 0.48642023 0.1725938\n",
      " 0.78504052 0.30456074 0.31225749 0.97554087 0.45275943 0.53776713]\n"
     ]
    }
   ],
   "source": [
    "rand_vect = np.random.rand(30)\n",
    "print(rand_vect)"
   ]
  },
  {
   "cell_type": "code",
   "execution_count": 121,
   "id": "21992609",
   "metadata": {},
   "outputs": [
    {
     "data": {
      "text/plain": [
       "0.5381632416514843"
      ]
     },
     "execution_count": 121,
     "metadata": {},
     "output_type": "execute_result"
    }
   ],
   "source": [
    "np.mean(rand_vect)"
   ]
  },
  {
   "cell_type": "markdown",
   "id": "f265a148",
   "metadata": {},
   "source": [
    "Create a 5x5 matrix with values 1,2,3,4 just below the diagonal"
   ]
  },
  {
   "cell_type": "code",
   "execution_count": 124,
   "id": "a22e732a",
   "metadata": {},
   "outputs": [],
   "source": [
    "vec_range_25 = np.zeros(25)"
   ]
  },
  {
   "cell_type": "code",
   "execution_count": 126,
   "id": "1325ce71",
   "metadata": {},
   "outputs": [],
   "source": [
    "matrix_range_25 = vec_range_25.reshape(5,5)"
   ]
  },
  {
   "cell_type": "code",
   "execution_count": 127,
   "id": "5ba489fa",
   "metadata": {},
   "outputs": [
    {
     "data": {
      "text/plain": [
       "array([[0., 0., 0., 0., 0.],\n",
       "       [0., 0., 0., 0., 0.],\n",
       "       [0., 0., 0., 0., 0.],\n",
       "       [0., 0., 0., 0., 0.],\n",
       "       [0., 0., 0., 0., 0.]])"
      ]
     },
     "execution_count": 127,
     "metadata": {},
     "output_type": "execute_result"
    }
   ],
   "source": [
    "matrix_range_25"
   ]
  },
  {
   "cell_type": "code",
   "execution_count": 128,
   "id": "59f93556",
   "metadata": {},
   "outputs": [
    {
     "ename": "IndexError",
     "evalue": "index 5 is out of bounds for axis 0 with size 5",
     "output_type": "error",
     "traceback": [
      "\u001b[0;31m---------------------------------------------------------------------------\u001b[0m",
      "\u001b[0;31mIndexError\u001b[0m                                Traceback (most recent call last)",
      "Cell \u001b[0;32mIn[128], line 1\u001b[0m\n\u001b[0;32m----> 1\u001b[0m matrix_range_25[\u001b[38;5;241m5\u001b[39m] \u001b[38;5;241m=\u001b[39m \u001b[38;5;241m1\u001b[39m\n\u001b[1;32m      2\u001b[0m matrix_range_25[\u001b[38;5;241m11\u001b[39m] \u001b[38;5;241m=\u001b[39m \u001b[38;5;241m2\u001b[39m\n\u001b[1;32m      3\u001b[0m matrix_range_25[\u001b[38;5;241m17\u001b[39m] \u001b[38;5;241m=\u001b[39m \u001b[38;5;241m3\u001b[39m\n",
      "\u001b[0;31mIndexError\u001b[0m: index 5 is out of bounds for axis 0 with size 5"
     ]
    }
   ],
   "source": [
    "matrix_range_25[5] = 1\n",
    "matrix_range_25[11] = 2\n",
    "matrix_range_25[17] = 3\n",
    "matrix_range_25[23] = 4\n"
   ]
  },
  {
   "cell_type": "code",
   "execution_count": null,
   "id": "78e397bf",
   "metadata": {},
   "outputs": [],
   "source": []
  }
 ],
 "metadata": {
  "kernelspec": {
   "display_name": "Python 3 (ipykernel)",
   "language": "python",
   "name": "python3"
  },
  "language_info": {
   "codemirror_mode": {
    "name": "ipython",
    "version": 3
   },
   "file_extension": ".py",
   "mimetype": "text/x-python",
   "name": "python",
   "nbconvert_exporter": "python",
   "pygments_lexer": "ipython3",
   "version": "3.10.9"
  }
 },
 "nbformat": 4,
 "nbformat_minor": 5
}
